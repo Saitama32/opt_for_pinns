{
 "cells": [
  {
   "cell_type": "code",
   "execution_count": 5,
   "id": "dca68563",
   "metadata": {},
   "outputs": [
    {
     "name": "stdout",
     "output_type": "stream",
     "text": [
      "The autoreload extension is already loaded. To reload it, use:\n",
      "  %reload_ext autoreload\n"
     ]
    }
   ],
   "source": [
    "%load_ext autoreload\n",
    "%autoreload 2"
   ]
  },
  {
   "cell_type": "markdown",
   "id": "4be5222d-aa67-415d-8416-fe0e179c4b01",
   "metadata": {},
   "source": [
    "# Training Utilities"
   ]
  },
  {
   "cell_type": "code",
   "execution_count": 6,
   "id": "c56c279d-a896-4515-baa4-4bbe695d2588",
   "metadata": {},
   "outputs": [],
   "source": [
    "import numpy as np\n",
    "import torch\n",
    "import torch.nn as nn\n",
    "# from torch.optim import Adam, LBFGS, Optimizer\n",
    "from torch.optim import Optimizer\n",
    "from torch.optim import Adam\n",
    "from src.opts.polyak_lbfgs import PolyakLBFGS\n",
    "from src.opts.polyak_gd import PolyakGD\n",
    "from src.opts.alr_mag import ALRMAG\n",
    "from src.opts.sketchygn import SketchyGN\n",
    "import random\n",
    "import re\n",
    "import os\n",
    "from tqdm import tqdm\n",
    "import matplotlib.pyplot as plt\n",
    "\n",
    "'''\n",
    "Implementation of PINNs. \n",
    "\n",
    "Source: https://github.com/AdityaLab/pinnsformer/blob/main/model/pinn.py\n",
    "'''\n",
    "class PINN(nn.Module):\n",
    "  def __init__(self, in_dim, hidden_dim, out_dim, num_layer):\n",
    "    super(PINN, self).__init__()\n",
    "\n",
    "    layers = []\n",
    "    for i in range(num_layer-1):\n",
    "      if i == 0:\n",
    "        layers.append(nn.Linear(in_features=in_dim, out_features=hidden_dim))\n",
    "        layers.append(nn.Tanh())\n",
    "      else:\n",
    "        layers.append(nn.Linear(in_features=hidden_dim, out_features=hidden_dim))\n",
    "        layers.append(nn.Tanh())\n",
    "\n",
    "    layers.append(nn.Linear(in_features=hidden_dim, out_features=out_dim))\n",
    "\n",
    "    self.linear = nn.Sequential(*layers)\n",
    "\n",
    "  def forward(self, x, t):\n",
    "    src = torch.cat((x,t), dim=-1)\n",
    "    return self.linear(src)\n",
    "\n",
    "class Adam_LBFGS(Optimizer):\n",
    "    def __init__(self, params, switch_epoch, adam_params, lbfgs_params):\n",
    "        # defaults = dict(switch_epoch=switch_epoch, adam_params=adam_params, lbfgs_params=lbfgs_params)\n",
    "\n",
    "        self.switch_epoch = switch_epoch\n",
    "        self.params = list(params)\n",
    "        self.adam = Adam(self.params, **adam_params)\n",
    "        self.lbfgs = PolyakLBFGS(self.params, **lbfgs_params)\n",
    "        print(lbfgs_params)\n",
    "        self.lbfgs_params = lbfgs_params\n",
    "\n",
    "        super(Adam_LBFGS, self).__init__(self.params, defaults={})\n",
    "\n",
    "        self.state['epoch'] = 0\n",
    "\n",
    "    def step(self, closure=None):\n",
    "        if self.state['epoch'] < self.switch_epoch:\n",
    "            self.adam.step(closure)\n",
    "        else:\n",
    "            if self.state['epoch'] == self.switch_epoch:\n",
    "                print(f'Switching to LBFGS optimizer at epoch {self.state[\"epoch\"]}')\n",
    "                # opt = LBFGS(self.adam.param_groups[0][\"params\"], **self.lbfgs_params)\n",
    "                # assert opt.state_dict() == self.lbfgs.state_dict()\n",
    "            self.lbfgs.step(closure)\n",
    "\n",
    "        self.state['epoch'] += 1\n",
    "\n",
    "class Adam_PolyakGD(Optimizer):\n",
    "    def __init__(self, params, switch_epoch, adam_params):\n",
    "        self.switch_epoch = switch_epoch\n",
    "        self.params = list(params)\n",
    "        self.adam = Adam(self.params, **adam_params)\n",
    "        self.polyakgd = PolyakGD(self.params)\n",
    "\n",
    "        super(Adam_PolyakGD, self).__init__(self.params, defaults={})\n",
    "\n",
    "        self.state['epoch'] = 0\n",
    "\n",
    "    def step(self, closure=None):\n",
    "        if self.state['epoch'] < self.switch_epoch:\n",
    "            self.adam.step(closure)\n",
    "        else:\n",
    "            if self.state['epoch'] == self.switch_epoch:\n",
    "                print(\n",
    "                    f'Switching to PolyakGD optimizer at epoch {self.state[\"epoch\"]}')\n",
    "            self.polyakgd.step(closure)\n",
    "\n",
    "        self.state['epoch'] += 1\n",
    "\n",
    "class Adam_ALRMAG(Optimizer):\n",
    "    def __init__(self, params, switch_epoch, adam_params, alrmag_params):\n",
    "        self.switch_epoch = switch_epoch\n",
    "        self.params = list(params)\n",
    "        self.adam = Adam(self.params, **adam_params)\n",
    "        self.alrmag = ALRMAG(self.params, **alrmag_params)\n",
    "\n",
    "        super(Adam_ALRMAG, self).__init__(self.params, defaults={})\n",
    "\n",
    "        self.state['epoch'] = 0\n",
    "\n",
    "    def step(self, closure=None):\n",
    "        if self.state['epoch'] < self.switch_epoch:\n",
    "            self.adam.step(closure)\n",
    "        else:\n",
    "            if self.state['epoch'] == self.switch_epoch:\n",
    "                print(\n",
    "                    f'Switching to ALRMAG optimizer at epoch {self.state[\"epoch\"]}')\n",
    "            self.alrmag.step(closure)\n",
    "\n",
    "        self.state['epoch'] += 1\n",
    "\n",
    "\"\"\"\n",
    "Helper function for obtaining corresponding domain and loss function of the chosen PDE type. \n",
    "\n",
    "INPUT: \n",
    "- pde_name: string; name of the PDE problem\n",
    "- pde_params_list: list of strings; coefficients of the PDE\n",
    "- loss_name: string; name of the loss type\n",
    "OUTPUT: \n",
    "- x_range: list of size 2; lower and upper bounds of spatial variable x\n",
    "- t_range: list of size 2; lower and upper bounds of temporal variable t\n",
    "- loss_func: loss function that takes (x,t,pred) and computes the total loss\n",
    "- pde_coefs: dictionary containing coefficients of the PDE\n",
    "\"\"\"\n",
    "def get_pde(pde_name, pde_params_list, loss_name): \n",
    "    # determine loss type\n",
    "    loss_options = {\n",
    "        \"l1\": {\"res\": nn.L1Loss(), \"bc\": nn.L1Loss(), \"ic\": nn.L1Loss()},\n",
    "        \"mse\": {\"res\": nn.MSELoss(), \"bc\": nn.MSELoss(), \"ic\": nn.MSELoss()},\n",
    "        \"huber\": {\"res\": nn.HuberLoss(), \"bc\": nn.HuberLoss(), \"ic\": nn.HuberLoss()},\n",
    "        \"hybrid\": {\"res\": nn.HuberLoss(), \"bc\": nn.MSELoss(), \"ic\": nn.MSELoss()}\n",
    "    }\n",
    "    try: \n",
    "        loss_type = loss_options[loss_name]\n",
    "    except KeyError as ke:\n",
    "        raise RuntimeError(\"{} is not a valid loss type.\".format(ke))\n",
    "\n",
    "    # parse PDE parameters\n",
    "    pde_coefs = parse_params_list(pde_params_list)\n",
    "    \n",
    "    # determine pde type\n",
    "    if pde_name == \"convection\": \n",
    "        if \"beta\" not in pde_coefs.keys(): \n",
    "            raise KeyError(\"beta is not specified for convection PDE.\")\n",
    "\n",
    "        x_range = [0, 2 * np.pi]\n",
    "        t_range = [0, 1]\n",
    "\n",
    "        def loss_func(x, t, pred): \n",
    "            x_res, x_left, x_upper, x_lower = x\n",
    "            t_res, t_left, t_upper, t_lower = t\n",
    "            outputs_res, outputs_left, outputs_upper, outputs_lower = pred\n",
    "\n",
    "            u_x = torch.autograd.grad(outputs_res, x_res, grad_outputs=torch.ones_like(outputs_res), retain_graph=True, create_graph=True)[0]\n",
    "            u_t = torch.autograd.grad(outputs_res, t_res, grad_outputs=torch.ones_like(outputs_res), retain_graph=True, create_graph=True)[0]\n",
    "\n",
    "            loss_res = loss_type[\"res\"](u_t + pde_coefs[\"beta\"] * u_x, torch.zeros_like(u_t))\n",
    "            loss_bc = loss_type[\"bc\"](outputs_upper - outputs_lower, torch.zeros_like(outputs_upper))\n",
    "            loss_ic = loss_type[\"ic\"](outputs_left[:,0], torch.sin(x_left[:,0]))\n",
    "\n",
    "            # loss = loss_res + loss_bc + loss_ic\n",
    "\n",
    "            return loss_res, loss_bc, loss_ic\n",
    "\n",
    "    elif pde_name == \"reaction_diffusion\": \n",
    "        if not {\"nu\", \"rho\"} <= pde_coefs.keys(): \n",
    "            raise KeyError(\"nu or rho is not specified for reaction diffusion PDE.\")\n",
    "\n",
    "        x_range = [0, 2 * np.pi]\n",
    "        t_range = [0, 1]\n",
    "\n",
    "        def loss_func(x, t, pred): \n",
    "            x_res, x_left, x_upper, x_lower = x\n",
    "            t_res, t_left, t_upper, t_lower = t\n",
    "            outputs_res, outputs_left, outputs_upper, outputs_lower = pred\n",
    "\n",
    "            u_x = torch.autograd.grad(outputs_res, x_res, grad_outputs=torch.ones_like(outputs_res), retain_graph=True, create_graph=True)[0]\n",
    "            u_xx = torch.autograd.grad(u_x, x_res, grad_outputs=torch.ones_like(outputs_res), retain_graph=True, create_graph=True)[0]\n",
    "            u_t = torch.autograd.grad(outputs_res, t_res, grad_outputs=torch.ones_like(outputs_res), retain_graph=True, create_graph=True)[0]\n",
    "\n",
    "            loss_res = loss_type[\"res\"](u_t - pde_coefs[\"nu\"] * u_xx - pde_coefs[\"rho\"] * outputs_res * (1 - outputs_res), torch.zeros_like(u_t))\n",
    "            loss_bc = loss_type[\"bc\"](outputs_upper - outputs_lower, torch.zeros_like(outputs_upper))\n",
    "            loss_ic = loss_type[\"ic\"](outputs_left[:,0], torch.exp(-(1/2) * torch.square((x_left[:,0] - np.pi) / (np.pi / 4))))\n",
    "\n",
    "            # loss = loss_res + loss_bc + loss_ic\n",
    "\n",
    "            return loss_res, loss_bc, loss_ic\n",
    "\n",
    "    elif pde_name == \"reaction\": \n",
    "        if \"rho\" not in pde_coefs.keys(): \n",
    "            raise KeyError(\"rho is not specified for reaction PDE.\")\n",
    "\n",
    "        x_range = [0, 2 * np.pi]\n",
    "        t_range = [0, 1]\n",
    "\n",
    "        def loss_func(x, t, pred): \n",
    "            x_res, x_left, x_upper, x_lower = x\n",
    "            t_res, t_left, t_upper, t_lower = t\n",
    "            outputs_res, outputs_left, outputs_upper, outputs_lower = pred\n",
    "\n",
    "            u_t = torch.autograd.grad(outputs_res, t_res, grad_outputs=torch.ones_like(outputs_res), retain_graph=True, create_graph=True)[0]\n",
    "\n",
    "            loss_res = loss_type[\"res\"](u_t - pde_coefs[\"rho\"] * outputs_res * (1 - outputs_res), torch.zeros_like(u_t))\n",
    "            loss_bc = loss_type[\"bc\"](outputs_upper - outputs_lower, torch.zeros_like(outputs_upper))\n",
    "            loss_ic = loss_type[\"ic\"](outputs_left[:,0], torch.exp(-(1/2) * torch.square((x_left[:,0] - np.pi) / (np.pi / 4))))\n",
    "\n",
    "            # loss = loss_res + loss_bc + loss_ic\n",
    "\n",
    "            return loss_res, loss_bc, loss_ic\n",
    "\n",
    "    elif pde_name == \"wave\":\n",
    "        if \"beta\" not in pde_coefs.keys():\n",
    "            raise KeyError(\"beta is not specified for wave PDE.\")\n",
    "\n",
    "        x_range = [0, 1]\n",
    "        t_range = [0, 1]\n",
    "\n",
    "        def loss_func(x, t, pred):\n",
    "            x_res, x_left, x_upper, x_lower = x\n",
    "            t_res, t_left, t_upper, t_lower = t\n",
    "            outputs_res, outputs_left, outputs_upper, outputs_lower = pred\n",
    "\n",
    "            u_x = torch.autograd.grad(outputs_res, x_res, grad_outputs=torch.ones_like(outputs_res), retain_graph=True, create_graph=True)[0]\n",
    "            u_xx = torch.autograd.grad(u_x, x_res, grad_outputs=torch.ones_like(outputs_res), retain_graph=True, create_graph=True)[0]\n",
    "            u_t = torch.autograd.grad(outputs_res, t_res, grad_outputs=torch.ones_like(outputs_res), retain_graph=True, create_graph=True)[0]\n",
    "            u_tt = torch.autograd.grad(u_t, t_res, grad_outputs=torch.ones_like(outputs_res), retain_graph=True, create_graph=True)[0]\n",
    "\n",
    "            loss_res = loss_type[\"res\"](u_tt - 4 * u_xx, torch.zeros_like(u_tt))\n",
    "            loss_bc = loss_type[\"bc\"](outputs_upper, torch.zeros_like(outputs_upper)) + loss_type[\"bc\"](outputs_lower, torch.zeros_like(outputs_lower))\n",
    "\n",
    "            ui_t = torch.autograd.grad(outputs_left, t_left, grad_outputs=torch.ones_like(outputs_left), retain_graph=True, create_graph=True)[0]\n",
    "\n",
    "            loss_ic_1 = loss_type[\"ic\"](outputs_left[:,0], torch.sin(np.pi * x_left[:,0]) + 0.5 * torch.sin(pde_coefs[\"beta\"] * np.pi * x_left[:,0]))\n",
    "            loss_ic_2 = loss_type[\"ic\"](ui_t, torch.zeros_like(ui_t))\n",
    "\n",
    "            loss_ic = loss_ic_1 + loss_ic_2\n",
    "\n",
    "            return loss_res, loss_bc, loss_ic\n",
    "\n",
    "    else: \n",
    "        raise RuntimeError(\"{} is not a valid PDE name.\".format(pde_name))\n",
    "\n",
    "    return x_range, t_range, loss_func, pde_coefs\n",
    "\n",
    "\"\"\"\n",
    "Helper function for computing reference solution to the given PDE at given points. \n",
    "\n",
    "INPUT: \n",
    "- pde_name: string; name of the PDE problem\n",
    "- pde_coefs: dictionary containing coefficients of the PDE\n",
    "- x: tuple of (x_res, x_left, x_upper, x_lower)\n",
    "- t: tuple of (t_res, t_left, t_upper, t_lower)\n",
    "- data_params: dictionary containing parameters used to generate the data\n",
    "OUTPUT: \n",
    "- sol: \n",
    "\"\"\"\n",
    "def get_ref_solutions(pde_name, pde_coefs, x, t, data_params): \n",
    "    if pde_name == \"convection\": \n",
    "        sol = np.vstack([np.sin(x[i].cpu().detach().numpy() - pde_coefs[\"beta\"] * t[i].cpu().detach().numpy()) for i in range(len(x))])\n",
    "    \n",
    "    elif pde_name == \"reaction_diffusion\": \n",
    "        # unpack data-generation parameters\n",
    "        x_range = data_params[\"x_range\"]\n",
    "        t_range = data_params[\"t_range\"]\n",
    "        x_num = data_params[\"x_num\"]\n",
    "        t_num = data_params[\"t_num\"]\n",
    "        res_idx = data_params[\"res_idx\"]\n",
    "        # generate grid\n",
    "        x = np.linspace(x_range[0], x_range[1], x_num-1, endpoint=False).reshape(-1, 1) # exclude upper boundary\n",
    "        t = np.linspace(t_range[0], t_range[1], t_num).reshape(-1, 1)\n",
    "        x_mesh, t_mesh = np.meshgrid(x, t)\n",
    "        # compute initial solution\n",
    "        u0 = np.exp(-(1/2) * np.square((x - np.pi) / (np.pi / 4))).flatten()\n",
    "        u = np.zeros((x_num, t_num))\n",
    "        u[:-1,0] = u0\n",
    "\n",
    "        IKX_pos = 1j * np.arange(0, (x_num-1) / 2 + 1, 1)\n",
    "        IKX_neg = 1j * np.arange(-(x_num-1) / 2 + 1, 0, 1)\n",
    "        IKX = np.concatenate((IKX_pos, IKX_neg))\n",
    "        IKX2 = IKX * IKX\n",
    "        # perform time-marching\n",
    "        t_step_size = (t_range[1] - t_range[0]) / (t_num - 1)\n",
    "        u_t = u0.copy()\n",
    "        for i in range(t_num - 1): \n",
    "            # reaction component\n",
    "            factor = u_t * np.exp(pde_coefs['rho'] * t_step_size)\n",
    "            u_t = factor / (factor + (1 - u_t))\n",
    "            # diffusion component\n",
    "            factor = np.exp(pde_coefs['nu'] * IKX2 * t_step_size)\n",
    "            u_hat = np.fft.fft(u_t) * factor\n",
    "            u_t = np.real(np.fft.ifft(u_hat))\n",
    "            u[:-1,i+1] = u_t\n",
    "\n",
    "        # add back solution on the upper boundary using the periodic boundary condition\n",
    "        u[-1,:] = u[0,:]\n",
    "        # split the solution\n",
    "        sol_left = u[:,0].reshape(-1,1)\n",
    "        sol_upper = u[-1,:].reshape(-1,1)\n",
    "        sol_lower = u[0,:].reshape(-1,1)\n",
    "        sol_res = u[1:-1, 1:].T.reshape(-1,1)[res_idx]\n",
    "\n",
    "        sol = np.vstack([sol_res, sol_left, sol_upper, sol_lower])\n",
    "    \n",
    "    elif pde_name == \"reaction\": \n",
    "        def compute_sol(x, t): \n",
    "            initial_func_term = np.exp(-(1/2) * np.square((x - np.pi) / (np.pi / 4)))\n",
    "            exp_term = np.exp(pde_coefs['rho'] * t)\n",
    "            return initial_func_term * exp_term / (initial_func_term * exp_term + 1 - initial_func_term)\n",
    "        \n",
    "        sol = np.vstack([compute_sol(x[i].cpu().detach().numpy(), t[i].cpu().detach().numpy()) for i in range(len(x))])\n",
    "\n",
    "    elif pde_name == \"wave\":\n",
    "        def compute_sol(x, t):\n",
    "            return np.sin(np.pi * x) * np.cos(2 * np.pi * t) \\\n",
    "                + 0.5 * np.sin(pde_coefs[\"beta\"] * np.pi * x) * np.cos(2 * pde_coefs[\"beta\"] * np.pi * t)\n",
    "\n",
    "        sol = np.vstack([compute_sol(x[i].cpu().detach().numpy(), t[i].cpu().detach().numpy()) for i in range(len(x))])\n",
    "\n",
    "    else: \n",
    "        raise RuntimeError(\"{} is not a valid PDE name.\".format(pde_name))\n",
    "    \n",
    "    return sol\n",
    "\n",
    "\"\"\"\n",
    "Helper function for setting seed for the random number generator in various packages.\n",
    "\n",
    "INPUT: \n",
    "- seed: integer\n",
    "\"\"\"\n",
    "def set_random_seed(seed): \n",
    "    np.random.seed(seed)\n",
    "    random.seed(seed)\n",
    "    torch.manual_seed(seed)\n",
    "    torch.cuda.manual_seed(seed)\n",
    "\n",
    "\"\"\"\n",
    "Helper function for generating data on a grid. \n",
    "\n",
    "INPUT: \n",
    "- x_range: list of size 2; lower and upper bounds of spatial variable x\n",
    "- t_range: list of size 2; lower and upper bounds of temporal variable t\n",
    "- x_num: positive integer; number of x points\n",
    "- t_num: positive integer; number of t points\n",
    "- random: boolean; indication whether to (uniformly) randomly from the grid\n",
    "- num_res_samples: positive integer; number of random samples to draw for residual points\n",
    "- device: string; the device that the samples will be stored at\n",
    "OUTPUT: \n",
    "- x: tuple of (x_res, x_left, x_upper, x_lower)\n",
    "- t: tuple of (t_res, t_left, t_upper, t_lower)\n",
    "- data_params: dictionary containing parameters used to generate the data \n",
    "               including x_range, t_range, x_num, t_num, grid_multiplier, and res_idx\n",
    "where: \n",
    "> res: numpy array / tensor of size (x_num-2)(t_num-1) * 2 or num_res_samples * 2; residual points (interior grid or random samples from it)\n",
    "> b_left: numpy array / tensor of size (x_num) * 2; initial points (corresponding to initial time step)\n",
    "> b_upper: numpy array / tensor of size (t_num) * 2; upper boundary points\n",
    "> b_lower: numpy array / tensor of size (t_num) * 2; lower boundary points\n",
    "> res_idx: numpy array of length (x_num-2)(t_num-1) or num_res_samples; corresponding indices of the sampled residual points from the interior grid\n",
    "\"\"\"\n",
    "def get_data(x_range, t_range, x_num, t_num, random=False, num_res_samples=1e4, device='cpu'):\n",
    "    # generate initial and boundary points\n",
    "    x = np.linspace(x_range[0], x_range[1], x_num).reshape(-1, 1)\n",
    "    t = np.linspace(t_range[0], t_range[1], t_num).reshape(-1, 1)\n",
    "    # initial time\n",
    "    x_left = x.copy()\n",
    "    t_left = t_range[0] * np.ones([x_num,1])\n",
    "    # lower boundary\n",
    "    x_lower = x_range[0] * np.ones([t_num,1])\n",
    "    t_lower = t.copy()\n",
    "    # upper boundary\n",
    "    x_upper = x_range[1] * np.ones([t_num,1])\n",
    "    t_upper = t.copy()\n",
    "    # residual points\n",
    "    x_mesh, t_mesh = np.meshgrid(x[1:-1], t[1:])\n",
    "    data_params = {\n",
    "        \"x_range\": x_range, \n",
    "        \"t_range\": t_range, \n",
    "        \"x_num\": x_num, \n",
    "        \"t_num\": t_num\n",
    "    }\n",
    "    if random: \n",
    "        mesh = np.hstack((x_mesh.flatten()[:, None], t_mesh.flatten()[:, None]))\n",
    "        idx = np.random.choice(mesh.shape[0], num_res_samples, replace=False)\n",
    "        x_res = mesh[idx, 0:1]\n",
    "        t_res = mesh[idx, 1:2]\n",
    "        data_params[\"res_idx\"] = idx\n",
    "    else: \n",
    "        x_res = x_mesh.reshape(-1,1)\n",
    "        t_res = t_mesh.reshape(-1,1)\n",
    "        data_params[\"res_idx\"] = np.arange((x_num - 2) * (t_num - 1))\n",
    "\n",
    "    # move data to target device\n",
    "    if device != 'cpu': \n",
    "        x_left = torch.tensor(x_left, dtype=torch.float32, requires_grad=True).to(device)\n",
    "        t_left = torch.tensor(t_left, dtype=torch.float32, requires_grad=True).to(device)\n",
    "        x_upper = torch.tensor(x_upper, dtype=torch.float32, requires_grad=True).to(device)\n",
    "        t_upper = torch.tensor(t_upper, dtype=torch.float32, requires_grad=True).to(device)\n",
    "        x_lower = torch.tensor(x_lower, dtype=torch.float32, requires_grad=True).to(device)\n",
    "        t_lower = torch.tensor(t_lower, dtype=torch.float32, requires_grad=True).to(device)\n",
    "        x_res = torch.tensor(x_res, dtype=torch.float32, requires_grad=True).to(device)\n",
    "        t_res = torch.tensor(t_res, dtype=torch.float32, requires_grad=True).to(device)\n",
    "\n",
    "    # form tuples\n",
    "    x = (x_res, x_left, x_upper, x_lower)\n",
    "    t = (t_res, t_left, t_upper, t_lower)\n",
    "\n",
    "    return x, t, data_params\n",
    "\n",
    "\"\"\"\n",
    "Helper function for initializing neural net parameters. \n",
    "\"\"\"\n",
    "def init_weights(m):\n",
    "    if isinstance(m, nn.Linear):\n",
    "        torch.nn.init.xavier_normal_(m.weight)\n",
    "        m.bias.data.fill_(0.0)\n",
    "\n",
    "\"\"\"\n",
    "Helper function for making predictions with PINN. \n",
    "\n",
    "INPUT: \n",
    "- x: tutple of (x_res, x_left, x_upper, x_lower)\n",
    "- t: tutple of (t_res, t_left, t_upper, t_lower)\n",
    "- model: PINN model\n",
    "OUTPUT: \n",
    "- preds: tuple of (pred_res, pred_left, pred_upper, pred_lower)\n",
    "where: \n",
    "> pred_res: predictions on residual points\n",
    "> pred_left: predictions on initial points\n",
    "> pred_upper: predictions on upper boundary points\n",
    "> pred_lower: predictions on lower boundary points\n",
    "\"\"\"\n",
    "def predict(x, t, model): \n",
    "    x_res, x_left, x_upper, x_lower = x\n",
    "    t_res, t_left, t_upper, t_lower = t\n",
    "    \n",
    "    pred_res = model(x_res, t_res)\n",
    "    pred_left = model(x_left, t_left)\n",
    "    pred_upper = model(x_upper, t_upper)\n",
    "    pred_lower = model(x_lower, t_lower)\n",
    "    \n",
    "    preds = (pred_res, pred_left, pred_upper, pred_lower) \n",
    "    \n",
    "    return preds\n",
    "\n",
    "\"\"\"\n",
    "Helper function for computing l1 relative error. \n",
    "\n",
    "INPUT: \n",
    "- prediction: numpy array of predictions from the model\n",
    "- target: numpy array of ground truths\n",
    "OUTPUT: \n",
    "- error: scalar; computed relative error\n",
    "\"\"\"\n",
    "def l1_relative_error(prediction, target): \n",
    "    return np.sum(np.abs(target-prediction)) / np.sum(np.abs(target))\n",
    "\n",
    "\"\"\"\n",
    "Helper function for computing l2 relative error. \n",
    "\n",
    "INPUT: \n",
    "- prediction: numpy array of predictions from the model\n",
    "- target: numpy array of ground truths\n",
    "OUTPUT: \n",
    "- error: scalar; computed relative error\n",
    "\"\"\"\n",
    "def l2_relative_error(prediction, target): \n",
    "    return np.sqrt(np.sum((target-prediction)**2) / np.sum(target**2))\n",
    "\n",
    "\"\"\"\n",
    "Helper function for initializing the optimizer with specified parameters. \n",
    "\n",
    "INPUT: \n",
    "- opt_name: string; name of the optimizer\n",
    "- opt_params: dictionary; arguments used to initialize the optimizer\n",
    "- model_params: dictionary; contains Tensors of the model to be optimized\n",
    "OUTPUT: \n",
    "- opt: torch.optim.Optimizer instance\n",
    "\"\"\"\n",
    "def get_opt(opt_name, opt_params, model_params):\n",
    "    if opt_name == 'adam':\n",
    "        return Adam(model_params, **opt_params)\n",
    "    elif opt_name == 'lbfgs':\n",
    "        if \"history_size\" in opt_params:\n",
    "            opt_params[\"history_size\"] = int(opt_params[\"history_size\"])\n",
    "        return LBFGS(model_params, **opt_params, line_search_fn='strong_wolfe')\n",
    "    elif opt_name == 'polyak_gd':\n",
    "        return PolyakGD(model_params, **opt_params)\n",
    "    elif opt_name == 'alr_mag':\n",
    "        return ALRMAG(model_params, **opt_params)\n",
    "    elif opt_name == 'adam_lbfgs':\n",
    "        if \"switch_epoch\" not in opt_params:\n",
    "            raise KeyError(\"switch_epoch is not specified for Adam_LBFGS optimizer.\")\n",
    "        switch_epoch = opt_params[\"switch_epoch\"]\n",
    "\n",
    "        # Get parameters for Adam and LBFGS, remove the prefix \"adam_\" and \"lbfgs_\" from the keys\n",
    "        adam_params = {k[5:]: v for k, v in opt_params.items() if k.startswith(\"adam_\")}\n",
    "        lbfgs_params = {k[6:]: v for k, v in opt_params.items() if k.startswith(\"lbfgs_\")}\n",
    "        lbfgs_params[\"line_search_fn\"] = \"strong_wolfe_pp\"\n",
    "        \n",
    "        # If max_iter or history_size is specified, convert them to integers\n",
    "        if \"max_iter\" in lbfgs_params:\n",
    "            lbfgs_params[\"max_iter\"] = int(lbfgs_params[\"max_iter\"])\n",
    "        if \"history_size\" in lbfgs_params:\n",
    "            lbfgs_params[\"history_size\"] = int(lbfgs_params[\"history_size\"])\n",
    "\n",
    "        return Adam_LBFGS(model_params, switch_epoch, adam_params, lbfgs_params)\n",
    "    elif opt_name == 'adam_polyakgd':\n",
    "        if \"switch_epoch\" not in opt_params:\n",
    "            raise KeyError(\"switch_epoch is not specified for Adam_PolyakGD optimizer.\")\n",
    "        switch_epoch = opt_params[\"switch_epoch\"]\n",
    "\n",
    "        # Get parameters for Adam, remove the prefix \"adam_\" from the keys\n",
    "        adam_params = {k[5:]: v for k, v in opt_params.items() if k.startswith(\"adam_\")}\n",
    "        \n",
    "        return Adam_PolyakGD(model_params, switch_epoch, adam_params)\n",
    "    elif opt_name == 'adam_alrmag':\n",
    "        if \"switch_epoch\" not in opt_params:\n",
    "            raise KeyError(\"switch_epoch is not specified for Adam_ALRMAG optimizer.\")\n",
    "        switch_epoch = opt_params[\"switch_epoch\"]\n",
    "\n",
    "        # Get parameters for Adam, remove the prefix \"adam_\" from the keys\n",
    "        adam_params = {k[5:]: v for k, v in opt_params.items() if k.startswith(\"adam_\")}\n",
    "        alrmag_params = {k[7:]: v for k, v in opt_params.items() if k.startswith(\"alrmag_\")}\n",
    "        \n",
    "        return Adam_ALRMAG(model_params, switch_epoch, adam_params, alrmag_params)\n",
    "    else:\n",
    "        raise ValueError(f'Optimizer {opt_name} not supported')\n",
    "\n",
    "\"\"\"\n",
    "Helper function for parsing a mixed list of strings and numerical values. \n",
    "\n",
    "INPUT: \n",
    "- params_list: list of strings\n",
    "OUTPUT: \n",
    "- params_dict: dictionary\n",
    "\"\"\"\n",
    "def parse_params_list(params_list): \n",
    "    # return an empty dictionary if there is no parameters specified\n",
    "    if params_list is None: \n",
    "        return {}\n",
    "\n",
    "    # parse parameter names and specified (if any) values\n",
    "    params_dict = {}\n",
    "    current_parameter = None\n",
    "    match_number = re.compile('-?\\ *[0-9]+\\.?[0-9]*(?:[Ee]\\ *-?\\ *[0-9]+)?')\n",
    "    for token in params_list: \n",
    "        # attempt to extract a number from the token\n",
    "        parsed_number = re.search(match_number, token)\n",
    "        # if no match is found, then the token is a parameter name\n",
    "        if parsed_number is None:\n",
    "            params_dict[token] = None\n",
    "            current_parameter = token\n",
    "        # if the token indeed is a number (integer, decimal, or in scientific notation)\n",
    "        else: \n",
    "            # append to the list of values associated with current parameter\n",
    "            params_dict[current_parameter] = float(parsed_number.group())\n",
    "    \n",
    "    return params_dict\n",
    "\n",
    "\"\"\"\n",
    "Helper function for forming optimizer parameters. \n",
    "\n",
    "INPUT: \n",
    "- opt_params_list: list of strings\n",
    "OUTPUT: \n",
    "- opt_params: dictionary\n",
    "\"\"\"\n",
    "def get_opt_params(opt_params_list): \n",
    "    return parse_params_list(opt_params_list)"
   ]
  },
  {
   "cell_type": "markdown",
   "id": "eaa49101-dbb5-4c2b-a8d5-37f2b69b6e01",
   "metadata": {},
   "source": [
    "# Experiment"
   ]
  },
  {
   "cell_type": "code",
   "execution_count": 7,
   "id": "5f6830f1-1e06-4d4e-a9ab-071818934a26",
   "metadata": {},
   "outputs": [],
   "source": [
    "# initial_seed = 234\n",
    "# pde_name = \"convection\"\n",
    "# pde_params = [\"beta\", \"40\"]\n",
    "# opt_name = \"adam_alrmag\"\n",
    "# switch_epoch = 1000\n",
    "# adam_lr = 0.001\n",
    "# lbfgs_history_size = 100\n",
    "# lbfgs_max_iter = 20\n",
    "# alrmag_beta = 0.8\n",
    "# # lbfgs_line_search_fn = \"strong_wolfe_pp\"\n",
    "# opt_params_list = [\"switch_epoch\", str(switch_epoch), \"adam_lr\", str(adam_lr), \n",
    "#                     \"alrmag_beta\", str(alrmag_beta)] \n",
    "# # \"lbfgs_history_size\", str(lbfgs_history_size), \"lbfgs_max_iter\", str(lbfgs_max_iter)]\n",
    "# num_layers = 4\n",
    "# num_neurons = 200\n",
    "# loss_name = \"mse\"\n",
    "# num_x = 257\n",
    "# num_t = 101\n",
    "# num_res = 10000\n",
    "# num_epochs = 10000\n",
    "# device = \"cuda:7\"\n",
    "\n",
    "# set_random_seed(initial_seed)\n",
    "\n",
    "# model = PINN(in_dim=2, hidden_dim=num_neurons, out_dim=1, num_layer=num_layers).to(device)\n",
    "\n",
    "# x_range, t_range, loss_func, pde_coefs = get_pde(pde_name, pde_params, loss_name)\n",
    "# opt_params = get_opt_params(opt_params_list)\n",
    "# opt = get_opt(opt_name, opt_params, model.parameters())\n",
    "# x, t, data_params = get_data(x_range, t_range, num_x, num_t, random=True, num_res_samples=num_res, device=device)\n",
    "\n",
    "# loss_hist = []\n",
    "# loss_res_hist = []\n",
    "# loss_bc_hist = []\n",
    "# loss_ic_hist = []\n",
    "# grad_norm_hist = []\n",
    "\n",
    "# loss_res, loss_bc, loss_ic = loss_func(x, t, predict(x, t, model))\n",
    "# loss = loss_res + loss_bc + loss_ic\n",
    "\n",
    "# loss_hist.append(loss.item())\n",
    "# loss_res_hist.append(loss_res.item())\n",
    "# loss_bc_hist.append(loss_bc.item())\n",
    "# loss_ic_hist.append(loss_ic.item())\n",
    "\n",
    "# for i in (progress_bar:=tqdm(range(num_epochs), ncols=125)):\n",
    "    \n",
    "#     model.train()\n",
    "#     def closure():\n",
    "#         opt.zero_grad()\n",
    "#         outputs = predict(x, t, model)\n",
    "#         loss_res, loss_bc, loss_ic = loss_func(x, t, outputs)\n",
    "#         loss = loss_res + loss_bc + loss_ic\n",
    "#         loss.backward()\n",
    "\n",
    "#         return loss\n",
    "    \n",
    "#     opt.step(closure)\n",
    "    \n",
    "#     model.eval()\n",
    "#     loss_res, loss_bc, loss_ic = loss_func(x, t, predict(x, t, model))\n",
    "#     loss = loss_res + loss_bc + loss_ic\n",
    "    \n",
    "#     grad_norm = 0\n",
    "#     for p in model.parameters():\n",
    "#         grad_norm += p.grad.norm().item() ** 2\n",
    "#     grad_norm = grad_norm ** 0.5\n",
    "    \n",
    "#     loss_hist.append(loss.item())\n",
    "#     loss_res_hist.append(loss_res.item())\n",
    "#     loss_bc_hist.append(loss_bc.item())\n",
    "#     loss_ic_hist.append(loss_ic.item())\n",
    "#     grad_norm_hist.append(grad_norm)\n",
    "    \n",
    "#     progress_bar.set_postfix_str(\"res {:.2e} / bc {:.2e} / ic {:.2e} / grad_norm {:.2e}\".format(loss_res_hist[-1], loss_bc_hist[-1], loss_ic_hist[-1], grad_norm))"
   ]
  },
  {
   "cell_type": "markdown",
   "id": "1d264a3a",
   "metadata": {},
   "source": [
    "### Adam + SketchyGN Combo\n",
    "\n",
    "### Note: this may not be correct yet for the wave pde because it has two initial conditions that are added together"
   ]
  },
  {
   "cell_type": "code",
   "execution_count": 8,
   "id": "30348815",
   "metadata": {},
   "outputs": [
    {
     "name": "stderr",
     "output_type": "stream",
     "text": [
      "  0%|                      | 16/10000 [00:00<04:24, 37.77it/s, res 1.27e+00 / bc 1.99e-02 / ic 5.42e-01 / grad_norm 1.10e+02]"
     ]
    },
    {
     "name": "stderr",
     "output_type": "stream",
     "text": [
      " 12%|██▏               | 1200/10000 [01:58<1:01:38,  2.38it/s, res 3.34e-03 / bc 1.95e-03 / ic 4.75e-01 / grad_norm 9.65e+00]"
     ]
    },
    {
     "name": "stdout",
     "output_type": "stream",
     "text": [
      "S:  tensor([1.2300e+02, 2.6819e+01, 1.5661e+00, 2.2699e-01, 1.5563e-01, 4.8879e-02,\n",
      "        1.3264e-02, 4.3025e-03, 3.0754e-03, 1.2448e-03, 8.8756e-04, 6.8175e-04,\n",
      "        2.7986e-04, 9.7568e-05, 5.2663e-05, 3.1266e-05, 1.0577e-05, 7.4002e-06,\n",
      "        4.9521e-06, 3.3404e-06, 1.6380e-06, 6.7286e-07, 4.8509e-07, 3.3057e-07,\n",
      "        2.3359e-07, 2.0638e-07, 1.5938e-07, 1.5542e-07, 1.0227e-07, 6.4010e-08],\n",
      "       device='cuda:7')\n"
     ]
    },
    {
     "name": "stderr",
     "output_type": "stream",
     "text": [
      " 16%|███▏                | 1601/10000 [03:45<30:37,  4.57it/s, res 3.03e-03 / bc 1.29e-02 / ic 4.41e-01 / grad_norm 2.34e+01]"
     ]
    },
    {
     "name": "stdout",
     "output_type": "stream",
     "text": [
      "S:  tensor([1.9920e+02, 5.1283e+01, 1.8285e+01, 3.9268e+00, 2.6370e+00, 1.0153e+00,\n",
      "        3.9662e-01, 2.7204e-01, 2.2151e-01, 1.4889e-01, 9.2555e-02, 7.6911e-02,\n",
      "        4.4189e-02, 3.7542e-02, 3.3956e-02, 2.3438e-02, 1.5454e-02, 1.0536e-02,\n",
      "        9.3166e-03, 7.0307e-03, 4.7498e-03, 4.6048e-03, 3.7848e-03, 3.5993e-03,\n",
      "        2.3723e-03, 2.0545e-03, 1.1744e-03, 7.3078e-04, 6.0302e-04, 3.1623e-04],\n",
      "       device='cuda:7')\n"
     ]
    },
    {
     "name": "stderr",
     "output_type": "stream",
     "text": [
      " 20%|████                | 2000/10000 [05:06<30:03,  4.44it/s, res 2.84e-03 / bc 1.52e-02 / ic 4.34e-01 / grad_norm 2.02e+01]"
     ]
    },
    {
     "name": "stdout",
     "output_type": "stream",
     "text": [
      "S:  tensor([2.9340e+02, 6.4871e+01, 1.2988e+01, 4.7671e+00, 2.9365e+00, 1.4497e+00,\n",
      "        7.1894e-01, 4.5341e-01, 2.4361e-01, 2.0772e-01, 1.2951e-01, 1.2423e-01,\n",
      "        6.2497e-02, 4.9719e-02, 2.5263e-02, 2.3889e-02, 1.9588e-02, 1.5963e-02,\n",
      "        1.5515e-02, 1.0695e-02, 8.0253e-03, 5.5421e-03, 4.3532e-03, 3.7304e-03,\n",
      "        3.0763e-03, 2.6447e-03, 2.3324e-03, 1.3585e-03, 1.2086e-03, 5.9101e-04],\n",
      "       device='cuda:7')\n"
     ]
    },
    {
     "name": "stderr",
     "output_type": "stream",
     "text": [
      " 24%|████▊               | 2400/10000 [06:35<29:12,  4.34it/s, res 2.72e-03 / bc 1.77e-02 / ic 4.26e-01 / grad_norm 1.28e+01]"
     ]
    },
    {
     "name": "stdout",
     "output_type": "stream",
     "text": [
      "S:  tensor([3.4096e+02, 7.8553e+01, 8.8928e+00, 6.5075e+00, 2.0315e+00, 1.7237e+00,\n",
      "        8.6019e-01, 7.2540e-01, 3.0148e-01, 2.6371e-01, 1.6926e-01, 1.3021e-01,\n",
      "        9.8504e-02, 7.1207e-02, 4.2708e-02, 3.2118e-02, 2.8759e-02, 2.2591e-02,\n",
      "        1.3610e-02, 1.0894e-02, 9.2126e-03, 7.0808e-03, 6.0898e-03, 4.2971e-03,\n",
      "        2.8556e-03, 2.7465e-03, 1.9579e-03, 1.7034e-03, 1.2964e-03, 6.5753e-04],\n",
      "       device='cuda:7')\n"
     ]
    },
    {
     "name": "stderr",
     "output_type": "stream",
     "text": [
      " 28%|█████▌              | 2801/10000 [07:55<20:34,  5.83it/s, res 2.89e-03 / bc 2.10e-02 / ic 4.15e-01 / grad_norm 1.20e+01]"
     ]
    },
    {
     "name": "stdout",
     "output_type": "stream",
     "text": [
      "S:  tensor([4.0142e+02, 8.3399e+01, 8.3062e+00, 6.1942e+00, 2.5661e+00, 1.4102e+00,\n",
      "        9.8105e-01, 8.7281e-01, 3.7988e-01, 3.1577e-01, 1.9709e-01, 1.5319e-01,\n",
      "        1.2750e-01, 1.0405e-01, 5.5048e-02, 5.1919e-02, 4.6661e-02, 3.4220e-02,\n",
      "        1.9107e-02, 1.3518e-02, 1.0270e-02, 7.8019e-03, 6.9375e-03, 4.3784e-03,\n",
      "        4.1906e-03, 3.9641e-03, 3.1262e-03, 1.6601e-03, 1.1258e-03, 9.9996e-04],\n",
      "       device='cuda:7')\n"
     ]
    },
    {
     "name": "stderr",
     "output_type": "stream",
     "text": [
      " 32%|██████▍             | 3200/10000 [09:13<24:03,  4.71it/s, res 3.01e-03 / bc 2.19e-02 / ic 4.10e-01 / grad_norm 5.38e+00]"
     ]
    },
    {
     "name": "stdout",
     "output_type": "stream",
     "text": [
      "S:  tensor([4.3634e+02, 8.8356e+01, 9.8881e+00, 4.8084e+00, 2.4253e+00, 1.1029e+00,\n",
      "        1.0022e+00, 7.0571e-01, 4.1871e-01, 3.3461e-01, 2.2000e-01, 2.1038e-01,\n",
      "        1.6070e-01, 9.0255e-02, 6.8856e-02, 5.6374e-02, 3.9231e-02, 3.3750e-02,\n",
      "        2.7839e-02, 1.7859e-02, 1.2603e-02, 1.0631e-02, 7.5133e-03, 5.2845e-03,\n",
      "        4.9527e-03, 3.6182e-03, 2.6093e-03, 2.4420e-03, 1.1323e-03, 9.3239e-04],\n",
      "       device='cuda:7')\n"
     ]
    },
    {
     "name": "stderr",
     "output_type": "stream",
     "text": [
      " 36%|███████▏            | 3600/10000 [10:35<24:56,  4.28it/s, res 3.26e-03 / bc 2.26e-02 / ic 4.05e-01 / grad_norm 2.59e+01]"
     ]
    },
    {
     "name": "stdout",
     "output_type": "stream",
     "text": [
      "S:  tensor([4.5684e+02, 8.7612e+01, 1.2045e+01, 4.0665e+00, 1.8716e+00, 1.1903e+00,\n",
      "        8.3638e-01, 7.7718e-01, 4.7628e-01, 2.8424e-01, 2.2209e-01, 1.8775e-01,\n",
      "        1.6527e-01, 1.0064e-01, 8.7629e-02, 6.8043e-02, 5.7460e-02, 3.6988e-02,\n",
      "        2.6088e-02, 2.3621e-02, 1.3975e-02, 1.0656e-02, 8.2083e-03, 7.8972e-03,\n",
      "        5.3444e-03, 4.3031e-03, 3.3093e-03, 1.9540e-03, 1.3795e-03, 7.3948e-04],\n",
      "       device='cuda:7')\n"
     ]
    },
    {
     "name": "stderr",
     "output_type": "stream",
     "text": [
      " 40%|████████            | 4000/10000 [12:01<21:40,  4.61it/s, res 3.26e-03 / bc 2.34e-02 / ic 4.02e-01 / grad_norm 9.87e+00]"
     ]
    },
    {
     "name": "stdout",
     "output_type": "stream",
     "text": [
      "S:  tensor([4.4070e+02, 9.0129e+01, 1.3551e+01, 3.5223e+00, 1.5154e+00, 1.2973e+00,\n",
      "        9.2811e-01, 6.4202e-01, 3.8867e-01, 2.4431e-01, 2.2742e-01, 1.8312e-01,\n",
      "        1.4440e-01, 1.0587e-01, 8.5775e-02, 8.0421e-02, 3.8684e-02, 3.3497e-02,\n",
      "        2.1846e-02, 1.7935e-02, 1.5434e-02, 1.0210e-02, 8.0723e-03, 6.5861e-03,\n",
      "        5.7151e-03, 4.6297e-03, 3.8487e-03, 2.1349e-03, 1.7572e-03, 9.5272e-04],\n",
      "       device='cuda:7')\n"
     ]
    },
    {
     "name": "stderr",
     "output_type": "stream",
     "text": [
      " 44%|████████▊           | 4400/10000 [13:20<14:10,  6.58it/s, res 3.74e-03 / bc 2.78e-02 / ic 3.87e-01 / grad_norm 2.73e+01]"
     ]
    },
    {
     "name": "stdout",
     "output_type": "stream",
     "text": [
      "S:  tensor([4.6894e+02, 9.5361e+01, 1.6280e+01, 3.6573e+00, 1.4672e+00, 1.2536e+00,\n",
      "        9.0971e-01, 5.5302e-01, 4.7340e-01, 2.9643e-01, 2.5366e-01, 2.1201e-01,\n",
      "        1.7353e-01, 1.2325e-01, 1.0846e-01, 9.1728e-02, 5.3117e-02, 4.4150e-02,\n",
      "        2.4595e-02, 2.2474e-02, 1.7225e-02, 1.5284e-02, 1.1651e-02, 7.3874e-03,\n",
      "        6.9835e-03, 4.6171e-03, 3.4121e-03, 2.9506e-03, 2.3979e-03, 1.8610e-03],\n",
      "       device='cuda:7')\n"
     ]
    },
    {
     "name": "stderr",
     "output_type": "stream",
     "text": [
      " 48%|█████████▌          | 4801/10000 [14:27<14:28,  5.99it/s, res 3.73e-03 / bc 3.14e-02 / ic 3.74e-01 / grad_norm 1.89e+01]"
     ]
    },
    {
     "name": "stdout",
     "output_type": "stream",
     "text": [
      "S:  tensor([4.8720e+02, 9.9332e+01, 2.0892e+01, 5.7051e+00, 1.5816e+00, 1.2793e+00,\n",
      "        1.0473e+00, 6.9936e-01, 5.1462e-01, 3.2941e-01, 3.1035e-01, 2.3019e-01,\n",
      "        2.0231e-01, 1.5984e-01, 1.0731e-01, 1.0268e-01, 5.4955e-02, 4.7143e-02,\n",
      "        3.7315e-02, 2.5306e-02, 1.7394e-02, 1.5382e-02, 1.0568e-02, 8.0508e-03,\n",
      "        7.5032e-03, 6.3643e-03, 5.0453e-03, 4.2326e-03, 3.5976e-03, 2.9072e-03],\n",
      "       device='cuda:7')\n"
     ]
    },
    {
     "name": "stderr",
     "output_type": "stream",
     "text": [
      " 52%|██████████▍         | 5200/10000 [15:41<14:32,  5.50it/s, res 3.64e-03 / bc 3.13e-02 / ic 3.71e-01 / grad_norm 1.24e+01]"
     ]
    },
    {
     "name": "stdout",
     "output_type": "stream",
     "text": [
      "S:  tensor([5.0254e+02, 1.0305e+02, 2.5408e+01, 5.8941e+00, 1.6716e+00, 1.0064e+00,\n",
      "        9.1627e-01, 5.1075e-01, 4.1562e-01, 3.4968e-01, 3.0732e-01, 2.1925e-01,\n",
      "        1.6427e-01, 1.3959e-01, 9.9985e-02, 7.2040e-02, 4.6728e-02, 3.2045e-02,\n",
      "        2.9751e-02, 2.4752e-02, 1.6622e-02, 1.4832e-02, 1.1700e-02, 1.0190e-02,\n",
      "        7.9986e-03, 6.7839e-03, 5.6534e-03, 3.8797e-03, 2.7674e-03, 2.6253e-03],\n",
      "       device='cuda:7')\n"
     ]
    },
    {
     "name": "stderr",
     "output_type": "stream",
     "text": [
      " 56%|███████████▏        | 5601/10000 [17:01<13:50,  5.30it/s, res 4.10e-03 / bc 3.21e-02 / ic 3.64e-01 / grad_norm 5.97e+01]"
     ]
    },
    {
     "name": "stdout",
     "output_type": "stream",
     "text": [
      "S:  tensor([5.4366e+02, 1.0864e+02, 2.8610e+01, 4.9968e+00, 1.8698e+00, 9.2590e-01,\n",
      "        6.8497e-01, 6.1887e-01, 4.1314e-01, 3.6318e-01, 3.3178e-01, 2.2298e-01,\n",
      "        2.0833e-01, 1.1774e-01, 9.5894e-02, 5.4079e-02, 5.0052e-02, 4.4433e-02,\n",
      "        3.4519e-02, 3.2567e-02, 1.9367e-02, 1.8783e-02, 1.2431e-02, 9.3603e-03,\n",
      "        8.4393e-03, 6.7406e-03, 6.1989e-03, 5.5482e-03, 4.1980e-03, 2.6712e-03],\n",
      "       device='cuda:7')\n"
     ]
    },
    {
     "name": "stderr",
     "output_type": "stream",
     "text": [
      " 60%|████████████        | 6001/10000 [18:14<10:50,  6.15it/s, res 3.55e-03 / bc 3.19e-02 / ic 3.62e-01 / grad_norm 1.48e+01]"
     ]
    },
    {
     "name": "stdout",
     "output_type": "stream",
     "text": [
      "S:  tensor([5.8013e+02, 1.1089e+02, 3.3209e+01, 4.3690e+00, 1.9449e+00, 1.1150e+00,\n",
      "        8.4021e-01, 4.4959e-01, 4.1332e-01, 3.6482e-01, 2.4346e-01, 2.2733e-01,\n",
      "        1.5776e-01, 1.2688e-01, 8.1565e-02, 6.7211e-02, 4.9202e-02, 3.9366e-02,\n",
      "        3.1286e-02, 2.8486e-02, 2.0758e-02, 1.3961e-02, 1.3325e-02, 8.3449e-03,\n",
      "        7.8993e-03, 7.0506e-03, 5.6209e-03, 4.7890e-03, 4.2453e-03, 2.1858e-03],\n",
      "       device='cuda:7')\n"
     ]
    },
    {
     "name": "stderr",
     "output_type": "stream",
     "text": [
      " 64%|████████████▊       | 6401/10000 [19:33<10:39,  5.62it/s, res 3.48e-03 / bc 3.18e-02 / ic 3.59e-01 / grad_norm 3.87e+01]"
     ]
    },
    {
     "name": "stdout",
     "output_type": "stream",
     "text": [
      "S:  tensor([6.0578e+02, 1.1860e+02, 3.5828e+01, 3.6106e+00, 2.1016e+00, 9.0504e-01,\n",
      "        7.7937e-01, 4.6926e-01, 3.8219e-01, 2.9448e-01, 2.5541e-01, 2.3569e-01,\n",
      "        1.6391e-01, 1.3357e-01, 9.6846e-02, 4.9566e-02, 4.7672e-02, 2.7816e-02,\n",
      "        2.2235e-02, 2.0879e-02, 1.6373e-02, 1.2662e-02, 1.1147e-02, 9.1653e-03,\n",
      "        8.2074e-03, 6.9409e-03, 4.7753e-03, 4.1691e-03, 3.6315e-03, 2.6761e-03],\n",
      "       device='cuda:7')\n"
     ]
    },
    {
     "name": "stderr",
     "output_type": "stream",
     "text": [
      " 68%|█████████████▌      | 6800/10000 [20:52<10:49,  4.93it/s, res 3.81e-03 / bc 3.24e-02 / ic 3.53e-01 / grad_norm 6.31e+01]"
     ]
    },
    {
     "name": "stdout",
     "output_type": "stream",
     "text": [
      "S:  tensor([6.0980e+02, 1.1227e+02, 4.1149e+01, 3.0234e+00, 2.1021e+00, 8.2560e-01,\n",
      "        7.8762e-01, 4.8662e-01, 4.0413e-01, 3.8667e-01, 2.8091e-01, 1.8160e-01,\n",
      "        1.5341e-01, 1.1473e-01, 8.3259e-02, 6.1224e-02, 3.9340e-02, 3.0822e-02,\n",
      "        2.5814e-02, 1.7324e-02, 1.5590e-02, 1.4575e-02, 1.2092e-02, 1.0652e-02,\n",
      "        9.3859e-03, 7.9476e-03, 5.7537e-03, 3.7500e-03, 3.2495e-03, 2.5222e-03],\n",
      "       device='cuda:7')\n"
     ]
    },
    {
     "name": "stderr",
     "output_type": "stream",
     "text": [
      " 72%|██████████████▍     | 7201/10000 [22:09<09:15,  5.04it/s, res 6.76e-03 / bc 3.92e-02 / ic 3.25e-01 / grad_norm 1.70e+01]"
     ]
    },
    {
     "name": "stdout",
     "output_type": "stream",
     "text": [
      "S:  tensor([6.4098e+02, 1.1071e+02, 4.4611e+01, 5.1865e+00, 2.2919e+00, 1.4112e+00,\n",
      "        9.0092e-01, 6.7071e-01, 5.6116e-01, 5.1380e-01, 3.8005e-01, 3.1362e-01,\n",
      "        1.5677e-01, 1.4028e-01, 9.9326e-02, 8.2642e-02, 5.6102e-02, 4.9073e-02,\n",
      "        3.6311e-02, 3.1739e-02, 2.3392e-02, 2.1028e-02, 1.6380e-02, 1.4880e-02,\n",
      "        1.0545e-02, 9.4718e-03, 7.7539e-03, 6.6577e-03, 5.0308e-03, 2.8041e-03],\n",
      "       device='cuda:7')\n"
     ]
    },
    {
     "name": "stderr",
     "output_type": "stream",
     "text": [
      " 76%|███████████████▏    | 7600/10000 [23:27<07:49,  5.11it/s, res 5.62e-03 / bc 3.92e-02 / ic 3.22e-01 / grad_norm 2.65e+01]"
     ]
    },
    {
     "name": "stdout",
     "output_type": "stream",
     "text": [
      "S:  tensor([6.6155e+02, 1.1728e+02, 5.4425e+01, 9.3017e+00, 2.5012e+00, 1.3209e+00,\n",
      "        1.1502e+00, 8.8638e-01, 8.3312e-01, 4.3961e-01, 4.1812e-01, 2.1444e-01,\n",
      "        1.5776e-01, 1.3979e-01, 9.0351e-02, 6.7890e-02, 5.1877e-02, 4.5630e-02,\n",
      "        4.1461e-02, 2.9700e-02, 2.3566e-02, 2.1217e-02, 1.6623e-02, 1.3713e-02,\n",
      "        1.2490e-02, 1.0702e-02, 8.5079e-03, 4.8759e-03, 4.0569e-03, 2.7464e-03],\n",
      "       device='cuda:7')\n"
     ]
    },
    {
     "name": "stderr",
     "output_type": "stream",
     "text": [
      " 80%|████████████████    | 8000/10000 [24:47<07:00,  4.75it/s, res 5.32e-03 / bc 3.97e-02 / ic 3.19e-01 / grad_norm 3.64e+01]"
     ]
    },
    {
     "name": "stdout",
     "output_type": "stream",
     "text": [
      "S:  tensor([6.8284e+02, 1.2117e+02, 5.8012e+01, 9.3001e+00, 2.7549e+00, 1.3296e+00,\n",
      "        9.7480e-01, 8.2657e-01, 7.3388e-01, 4.5486e-01, 3.2501e-01, 2.3192e-01,\n",
      "        1.3523e-01, 9.9598e-02, 8.0546e-02, 6.3204e-02, 4.6432e-02, 3.5760e-02,\n",
      "        3.3168e-02, 2.6078e-02, 2.0715e-02, 1.8782e-02, 1.7341e-02, 1.4253e-02,\n",
      "        1.1404e-02, 9.6593e-03, 7.8746e-03, 5.5892e-03, 3.7031e-03, 2.4144e-03],\n",
      "       device='cuda:7')\n"
     ]
    },
    {
     "name": "stderr",
     "output_type": "stream",
     "text": [
      " 84%|████████████████▊   | 8401/10000 [26:04<04:39,  5.72it/s, res 6.34e-03 / bc 4.48e-02 / ic 3.01e-01 / grad_norm 9.81e+00]"
     ]
    },
    {
     "name": "stdout",
     "output_type": "stream",
     "text": [
      "S:  tensor([7.2101e+02, 1.2888e+02, 6.3676e+01, 9.3169e+00, 2.7742e+00, 1.7940e+00,\n",
      "        1.4219e+00, 9.4317e-01, 7.5832e-01, 5.1820e-01, 4.7112e-01, 1.9504e-01,\n",
      "        1.8391e-01, 1.1177e-01, 9.2486e-02, 7.8993e-02, 5.5858e-02, 4.9068e-02,\n",
      "        4.0819e-02, 3.1322e-02, 2.3122e-02, 2.1596e-02, 1.9198e-02, 1.6429e-02,\n",
      "        1.5157e-02, 9.3255e-03, 8.2453e-03, 8.1275e-03, 5.9731e-03, 5.1117e-03],\n",
      "       device='cuda:7')\n"
     ]
    },
    {
     "name": "stderr",
     "output_type": "stream",
     "text": [
      " 88%|█████████████████▌  | 8801/10000 [27:16<03:40,  5.43it/s, res 7.44e-03 / bc 4.84e-02 / ic 2.82e-01 / grad_norm 5.00e+01]"
     ]
    },
    {
     "name": "stdout",
     "output_type": "stream",
     "text": [
      "S:  tensor([7.7319e+02, 1.3447e+02, 6.9703e+01, 1.2928e+01, 2.9568e+00, 2.5094e+00,\n",
      "        1.7793e+00, 1.1884e+00, 7.9033e-01, 5.8715e-01, 5.5899e-01, 3.5867e-01,\n",
      "        2.6273e-01, 1.8967e-01, 1.1155e-01, 8.1936e-02, 6.4794e-02, 5.1557e-02,\n",
      "        4.4012e-02, 3.9481e-02, 3.5514e-02, 2.7645e-02, 2.2422e-02, 1.8160e-02,\n",
      "        1.5917e-02, 1.3196e-02, 1.0892e-02, 8.4613e-03, 7.6101e-03, 5.1060e-03],\n",
      "       device='cuda:7')\n"
     ]
    },
    {
     "name": "stderr",
     "output_type": "stream",
     "text": [
      " 92%|██████████████████▍ | 9200/10000 [28:22<02:21,  5.64it/s, res 8.69e-03 / bc 5.34e-02 / ic 2.64e-01 / grad_norm 2.34e+01]"
     ]
    },
    {
     "name": "stdout",
     "output_type": "stream",
     "text": [
      "S:  tensor([8.2141e+02, 1.4010e+02, 7.1461e+01, 1.4269e+01, 3.1066e+00, 1.9802e+00,\n",
      "        1.8990e+00, 1.4603e+00, 7.7297e-01, 7.3106e-01, 6.2716e-01, 2.8843e-01,\n",
      "        2.6725e-01, 2.1030e-01, 1.6614e-01, 8.3117e-02, 6.9549e-02, 6.3882e-02,\n",
      "        4.7352e-02, 3.7299e-02, 2.9848e-02, 2.5011e-02, 2.4517e-02, 2.2591e-02,\n",
      "        1.7059e-02, 1.3916e-02, 1.2406e-02, 8.6000e-03, 5.5778e-03, 4.0857e-03],\n",
      "       device='cuda:7')\n"
     ]
    },
    {
     "name": "stderr",
     "output_type": "stream",
     "text": [
      " 96%|███████████████████▏| 9600/10000 [29:35<01:13,  5.42it/s, res 7.91e-03 / bc 5.60e-02 / ic 2.55e-01 / grad_norm 3.27e+01]"
     ]
    },
    {
     "name": "stdout",
     "output_type": "stream",
     "text": [
      "S:  tensor([9.1900e+02, 1.5171e+02, 7.2807e+01, 1.6454e+01, 3.4955e+00, 2.4159e+00,\n",
      "        2.0972e+00, 1.7063e+00, 1.2446e+00, 8.6179e-01, 6.6652e-01, 3.1839e-01,\n",
      "        2.9276e-01, 2.2336e-01, 1.6687e-01, 1.2032e-01, 7.8707e-02, 7.7113e-02,\n",
      "        5.4329e-02, 4.8831e-02, 4.0268e-02, 2.8046e-02, 2.5548e-02, 2.0469e-02,\n",
      "        1.5762e-02, 1.2612e-02, 1.0345e-02, 9.1908e-03, 6.0873e-03, 5.3445e-03],\n",
      "       device='cuda:7')\n"
     ]
    },
    {
     "name": "stderr",
     "output_type": "stream",
     "text": [
      "100%|███████████████████| 10000/10000 [30:48<00:00,  5.41it/s, res 7.18e-03 / bc 5.53e-02 / ic 2.52e-01 / grad_norm 8.60e+00]"
     ]
    },
    {
     "name": "stdout",
     "output_type": "stream",
     "text": [
      "S:  tensor([9.0082e+02, 1.6128e+02, 7.1808e+01, 1.5227e+01, 3.7105e+00, 2.5710e+00,\n",
      "        1.9827e+00, 1.9356e+00, 9.2057e-01, 8.5673e-01, 6.4347e-01, 3.2688e-01,\n",
      "        3.0377e-01, 2.3767e-01, 1.3949e-01, 1.1734e-01, 8.8917e-02, 7.4331e-02,\n",
      "        5.9558e-02, 4.2233e-02, 3.1904e-02, 2.6752e-02, 2.5785e-02, 2.4753e-02,\n",
      "        1.5332e-02, 1.5280e-02, 9.4413e-03, 8.5332e-03, 5.7156e-03, 4.5593e-03],\n",
      "       device='cuda:7')\n"
     ]
    },
    {
     "name": "stderr",
     "output_type": "stream",
     "text": [
      "\n"
     ]
    }
   ],
   "source": [
    "initial_seed = 234\n",
    "pde_name = \"convection\"\n",
    "pde_params = [\"beta\", \"40\"]\n",
    "adam_lr = 0.001\n",
    "switch_epoch = 1000\n",
    "num_layers = 4\n",
    "num_neurons = 200\n",
    "loss_name = \"mse\"\n",
    "num_x = 257\n",
    "num_t = 101\n",
    "num_res = 10000\n",
    "num_epochs = 10000\n",
    "device = \"cuda:7\"\n",
    "\n",
    "precond_update_freq = 20\n",
    "sketch_warmup = 100\n",
    "\n",
    "set_random_seed(initial_seed)\n",
    "\n",
    "model = PINN(in_dim=2, hidden_dim=num_neurons, out_dim=1, num_layer=num_layers).to(device)\n",
    "\n",
    "x_range, t_range, loss_func, pde_coefs = get_pde(pde_name, pde_params, loss_name)\n",
    "x, t, data_params = get_data(x_range, t_range, num_x, num_t, random=True, num_res_samples=num_res, device=device)\n",
    "\n",
    "loss_hist = []\n",
    "loss_res_hist = []\n",
    "loss_bc_hist = []\n",
    "loss_ic_hist = []\n",
    "grad_norm_hist = []\n",
    "\n",
    "loss_res, loss_bc, loss_ic = loss_func(x, t, predict(x, t, model))\n",
    "loss = loss_res + loss_bc + loss_ic\n",
    "\n",
    "loss_hist.append(loss.item())\n",
    "loss_res_hist.append(loss_res.item())\n",
    "loss_bc_hist.append(loss_bc.item())\n",
    "loss_ic_hist.append(loss_ic.item())\n",
    "\n",
    "opt = Adam(model.parameters(), lr=adam_lr)\n",
    "\n",
    "for i in (progress_bar:=tqdm(range(num_epochs), ncols=125)):\n",
    "\n",
    "    model.train()\n",
    "\n",
    "    if i == switch_epoch:\n",
    "        opt = SketchyGN(model.parameters(), lr=1e-3, beta=0.999, rank=30, line_search_fn=\"armijo\")\n",
    "        # Warmup sketch\n",
    "        for j in range(sketch_warmup):\n",
    "            opt.zero_grad()\n",
    "            outputs = predict(x, t, model)\n",
    "            n_res = outputs[0].shape[0]\n",
    "            n_ic = outputs[1].shape[0]\n",
    "            n_bc = outputs[2].shape[0]\n",
    "            outputs_res = outputs[0] + torch.randn_like(outputs[0]) * (n_res ** 0.5) # Residual points\n",
    "            outputs_ic = outputs[1] + torch.randn_like(outputs[1]) * (n_ic ** 0.5) # Initial condition points\n",
    "            outputs_bc = outputs[2] + torch.randn_like(outputs[2]) * (n_bc ** 0.5) # Upper boundary points\n",
    "            # We do not need to add noise to lower boundary points because we want \n",
    "            # to add noise to the difference between upper and lower boundary points\n",
    "            loss_res, loss_bc, loss_ic = loss_func(x, t, (outputs_res, outputs_ic, outputs_bc, outputs[3]))\n",
    "            loss = loss_res + loss_bc + loss_ic\n",
    "            loss.backward()\n",
    "            grad_flat = torch.cat([p.grad.view(-1) for p in model.parameters()])\n",
    "            opt.update_sketch(grad_flat, bsz=1) # Only need bsz=1 because we scaled the noise appropriately\n",
    "        opt.update_preconditioner()\n",
    "\n",
    "    def closure():\n",
    "        opt.zero_grad()\n",
    "        outputs = predict(x, t, model)\n",
    "        loss_res, loss_bc, loss_ic = loss_func(x, t, outputs)\n",
    "        loss = loss_res + loss_bc + loss_ic\n",
    "        loss.backward()\n",
    "\n",
    "        return loss\n",
    "            \n",
    "    opt.step(closure)\n",
    "\n",
    "    # Update sketch with an unbiased estimate of the GGN matrix\n",
    "    if i >= switch_epoch:\n",
    "        opt.zero_grad()\n",
    "        outputs = predict(x, t, model)\n",
    "        n_res = outputs[0].shape[0]\n",
    "        n_ic = outputs[1].shape[0]\n",
    "        n_bc = outputs[2].shape[0]\n",
    "        outputs_res = outputs[0] + torch.randn_like(outputs[0]) * (n_res ** 0.5) # Residual points\n",
    "        outputs_ic = outputs[1] + torch.randn_like(outputs[1]) * (n_ic ** 0.5) # Initial condition points\n",
    "        outputs_bc = outputs[2] + torch.randn_like(outputs[2]) * (n_bc ** 0.5) # Upper boundary points\n",
    "        # We do not need to add noise to lower boundary points because we want \n",
    "        # to add noise to the difference between upper and lower boundary points\n",
    "        loss_res, loss_bc, loss_ic = loss_func(x, t, (outputs_res, outputs_ic, outputs_bc, outputs[3]))\n",
    "        loss = loss_res + loss_bc + loss_ic\n",
    "        loss.backward()\n",
    "        grad_flat = torch.cat([p.grad.view(-1) for p in model.parameters()])\n",
    "        opt.update_sketch(grad_flat, bsz=1) # Only need bsz=1 because we scaled the noise appropriately\n",
    "\n",
    "        # Update preconditioner\n",
    "        if (i + 1) % precond_update_freq == 0:\n",
    "            opt.update_preconditioner()\n",
    "\n",
    "        if (i + 1) % (precond_update_freq * 20) == 0:\n",
    "            print('S: ', opt.S)\n",
    "\n",
    "    model.eval()\n",
    "    loss_res, loss_bc, loss_ic = loss_func(x, t, predict(x, t, model))\n",
    "    loss = loss_res + loss_bc + loss_ic\n",
    "\n",
    "    grad_norm = 0\n",
    "    for p in model.parameters():\n",
    "        grad_norm += p.grad.norm().item() ** 2\n",
    "    grad_norm = grad_norm ** 0.5\n",
    "\n",
    "    loss_hist.append(loss.item())\n",
    "    loss_res_hist.append(loss_res.item())\n",
    "    loss_bc_hist.append(loss_bc.item())\n",
    "    loss_ic_hist.append(loss_ic.item())\n",
    "    grad_norm_hist.append(grad_norm)\n",
    "\n",
    "    progress_bar.set_postfix_str(\"res {:.2e} / bc {:.2e} / ic {:.2e} / grad_norm {:.2e}\".format(loss_res_hist[-1], loss_bc_hist[-1], loss_ic_hist[-1], grad_norm))"
   ]
  },
  {
   "cell_type": "code",
   "execution_count": 9,
   "id": "3e213f7f-a835-4e66-9238-c283ff53ca2d",
   "metadata": {},
   "outputs": [
    {
     "data": {
      "text/plain": [
       "[<matplotlib.lines.Line2D at 0x7ffb8e720df0>]"
      ]
     },
     "execution_count": 9,
     "metadata": {},
     "output_type": "execute_result"
    },
    {
     "data": {
      "image/png": "[encoded data removed]",
      "text/plain": [
       "<Figure size 640x480 with 1 Axes>"
      ]
     },
     "metadata": {},
     "output_type": "display_data"
    }
   ],
   "source": [
    "plt.semilogy(loss_hist)"
   ]
  },
  {
   "cell_type": "code",
   "execution_count": 10,
   "id": "1567822f",
   "metadata": {},
   "outputs": [
    {
     "data": {
      "text/plain": [
       "[<matplotlib.lines.Line2D at 0x7ffab0492350>]"
      ]
     },
     "execution_count": 10,
     "metadata": {},
     "output_type": "execute_result"
    },
    {
     "data": {
      "image/png": "[encoded data removed]",
      "text/plain": [
       "<Figure size 640x480 with 1 Axes>"
      ]
     },
     "metadata": {},
     "output_type": "display_data"
    }
   ],
   "source": [
    "plt.semilogy(loss_res_hist)"
   ]
  },
  {
   "cell_type": "code",
   "execution_count": 11,
   "id": "e9bba2dd",
   "metadata": {},
   "outputs": [
    {
     "data": {
      "text/plain": [
       "[<matplotlib.lines.Line2D at 0x7ffab02289a0>]"
      ]
     },
     "execution_count": 11,
     "metadata": {},
     "output_type": "execute_result"
    },
    {
     "data": {
      "image/png": "[encoded data removed]",
      "text/plain": [
       "<Figure size 640x480 with 1 Axes>"
      ]
     },
     "metadata": {},
     "output_type": "display_data"
    }
   ],
   "source": [
    "plt.semilogy(loss_bc_hist)"
   ]
  },
  {
   "cell_type": "code",
   "execution_count": 12,
   "id": "a1e60602",
   "metadata": {},
   "outputs": [
    {
     "data": {
      "text/plain": [
       "[<matplotlib.lines.Line2D at 0x7ffa9c735960>]"
      ]
     },
     "execution_count": 12,
     "metadata": {},
     "output_type": "execute_result"
    },
    {
     "data": {
      "image/png": "[encoded data removed]",
      "text/plain": [
       "<Figure size 640x480 with 1 Axes>"
      ]
     },
     "metadata": {},
     "output_type": "display_data"
    }
   ],
   "source": [
    "plt.semilogy(loss_ic_hist)"
   ]
  },
  {
   "cell_type": "code",
   "execution_count": 13,
   "id": "e01797b8-b7d7-452b-9cf3-a43daeb894e4",
   "metadata": {},
   "outputs": [
    {
     "data": {
      "text/plain": [
       "[<matplotlib.lines.Line2D at 0x7ffa9c614490>]"
      ]
     },
     "execution_count": 13,
     "metadata": {},
     "output_type": "execute_result"
    },
    {
     "data": {
      "image/png": "[encoded data removed]",
      "text/plain": [
       "<Figure size 640x480 with 1 Axes>"
      ]
     },
     "metadata": {},
     "output_type": "display_data"
    }
   ],
   "source": [
    "plt.semilogy(grad_norm_hist)"
   ]
  }
 ],
 "metadata": {
  "kernelspec": {
   "display_name": "opt_for_pinns_env",
   "language": "python",
   "name": "opt_for_pinns_env"
  },
  "language_info": {
   "codemirror_mode": {
    "name": "ipython",
    "version": 3
   },
   "file_extension": ".py",
   "mimetype": "text/x-python",
   "name": "python",
   "nbconvert_exporter": "python",
   "pygments_lexer": "ipython3",
   "version": "3.10.12"
  }
 },
 "nbformat": 4,
 "nbformat_minor": 5
}
