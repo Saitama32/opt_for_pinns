{
 "cells": [
  {
   "cell_type": "code",
   "execution_count": 1,
   "metadata": {},
   "outputs": [],
   "source": [
    "import wandb\n",
    "import numpy as np\n",
    "import matplotlib.pyplot as plt\n",
    "import matplotlib as mpl\n",
    "import os"
   ]
  },
  {
   "cell_type": "code",
   "execution_count": 2,
   "metadata": {},
   "outputs": [],
   "source": [
    "# Render plots in LaTeX\n",
    "plt.rc('text', usetex = True)\n",
    "plt.rc('font', family = 'serif')"
   ]
  },
  {
   "cell_type": "code",
   "execution_count": 35,
   "metadata": {},
   "outputs": [],
   "source": [
    "def get_best_run(pde_name, pde_params, metric, opt, extensions, entity_name):\n",
    "    proj_name = f'{pde_name}_{extensions[opt]}'\n",
    "\n",
    "    best_run = None\n",
    "    best_val = np.inf\n",
    "\n",
    "    api = wandb.Api()\n",
    "    for run in api.runs(f'{entity_name}/{proj_name}'):\n",
    "        if run.state != 'finished':\n",
    "            continue\n",
    "\n",
    "        if run.config['pde_params'] != pde_params:\n",
    "            continue\n",
    "\n",
    "        if isinstance(run.summary[metric], (float, int)) and run.summary[metric] < best_val:\n",
    "            best_run = run\n",
    "            best_val = run.summary[metric]\n",
    "\n",
    "    best_run_data = best_run.history(samples=int(1e6), keys=[metric], pandas=False)\n",
    "    best_run_data = [dict[metric] for dict in best_run_data]\n",
    "\n",
    "    return best_run_data"
   ]
  },
  {
   "cell_type": "code",
   "execution_count": 36,
   "metadata": {},
   "outputs": [],
   "source": [
    "def get_title(pde_name, pde_params):\n",
    "    if pde_name == \"convection\":\n",
    "        return f'Convection, $\\\\beta = {pde_params[1]}$'\n",
    "    if pde_name == \"reaction\":\n",
    "        return f'Reaction, $\\\\rho = {pde_params[1]}$'\n",
    "    elif pde_name == \"reaction_diffusion\":\n",
    "        return f'Reaction-diffusion, $\\\\nu = {pde_params[1]}, \\\\rho = {pde_params[3]}$'\n",
    "    elif pde_name == \"wave\":\n",
    "        return f'Wave, $\\\\beta = {pde_params[1]}$'"
   ]
  },
  {
   "cell_type": "code",
   "execution_count": 37,
   "metadata": {},
   "outputs": [],
   "source": [
    "def plot_best_performance_pde(pde, metric, opts, extensions, entity_name,\n",
    "                              opt_names, metric_names, opt_colors, font_size, folder_path,\n",
    "                              filename):\n",
    "    mpl.rcParams.update({'font.size': font_size})\n",
    "\n",
    "    fig, ax = plt.subplots(1, 1, figsize = (5, 4)) # Adjust figsize as needed \n",
    "\n",
    "    custom_legend_optimizers = [mpl.lines.Line2D([0], [0], color=opt_colors[opt], linestyle='-', label=opt_names[opt]) for opt in opts]\n",
    "\n",
    "    pde_name = pde[0]\n",
    "    pde_params = pde[1]\n",
    "\n",
    "    for opt in opts:\n",
    "        best_run_data = get_best_run(pde_name, pde_params, metric, opt, extensions, entity_name)\n",
    "\n",
    "        x = np.arange(len(best_run_data))\n",
    "\n",
    "        ax.plot(x, best_run_data, color=opt_colors[opt], linestyle='-')\n",
    "\n",
    "    ax.set_yscale('log')\n",
    "    ax.set_ylabel(metric_names[metric])\n",
    "    ax.set_xlabel('Iterations / 20')\n",
    "    ax.set_title(get_title(pde_name, pde_params))\n",
    "\n",
    "    fig.legend(custom_legend_optimizers, [h.get_label() for h in custom_legend_optimizers], loc='lower center', bbox_to_anchor=(0.5, -0.05), ncol=len(opts))\n",
    "    fig.tight_layout(rect=[0, 0.03, 1, 0.95])\n",
    "\n",
    "    # Saving the figure\n",
    "    if not os.path.exists(folder_path):\n",
    "        os.makedirs(folder_path)\n",
    "\n",
    "    filename = filename + '.pdf'\n",
    "    fig.savefig(os.path.join(folder_path, filename), bbox_inches='tight')\n",
    "    plt.show()"
   ]
  },
  {
   "cell_type": "code",
   "execution_count": 38,
   "metadata": {},
   "outputs": [],
   "source": [
    "entity_name = 'sketchy-opts'\n",
    "extensions = {\n",
    "    'adam': 'adam_final',\n",
    "    'lbfgs': 'lbfgs_final',\n",
    "    'adam_lbfgs': 'adam_lbfgs_final',\n",
    "    'adam_lbfgs_11k': 'adam_lbfgs_final_11k',\n",
    "    'adam_lbfgs_31k': 'adam_lbfgs_final_31k'\n",
    "}\n",
    "opt_names = {\n",
    "    'adam': 'Adam',\n",
    "    'lbfgs': 'L-BFGS',\n",
    "    'adam_lbfgs': 'Adam + L-BFGS (1k)',\n",
    "    'adam_lbfgs_11k': 'Adam + L-BFGS (11k)',\n",
    "    'adam_lbfgs_31k': 'Adam + L-BFGS (31k)'\n",
    "}\n",
    "opt_colors = {\n",
    "    'adam': 'tab:blue',\n",
    "    'lbfgs': 'tab:orange',\n",
    "    'adam_lbfgs': 'tab:green',\n",
    "    'adam_lbfgs_11k': 'tab:red',\n",
    "    'adam_lbfgs_31k': 'tab:purple'\n",
    "}\n",
    "metric_names = {\n",
    "    'train/l2re': 'Training L2RE',\n",
    "    'train/l1re': 'Training L1RE',\n",
    "    'test/l2re': 'Test L2RE',\n",
    "    'test/l1re': 'Test L1RE',\n",
    "    'loss': 'Loss'\n",
    "}"
   ]
  },
  {
   "cell_type": "code",
   "execution_count": 39,
   "metadata": {},
   "outputs": [
    {
     "data": {
      "image/png": "[encoded data removed]",
      "text/plain": [
       "<Figure size 500x400 with 1 Axes>"
      ]
     },
     "metadata": {},
     "output_type": "display_data"
    }
   ],
   "source": [
    "pde = ('wave', ['beta', '5'])\n",
    "metric = 'loss'\n",
    "opts = ['adam', 'adam_lbfgs']\n",
    "\n",
    "folder_path = 'opt_comparison_plots'\n",
    "filename = 'performance_wave'\n",
    "\n",
    "plot_best_performance_pde(pde, metric, opts, extensions, entity_name, opt_names, metric_names, opt_colors,\n",
    "                          font_size=14, folder_path=folder_path, filename=filename)"
   ]
  }
 ],
 "metadata": {
  "kernelspec": {
   "display_name": "pinns_plotting_env",
   "language": "python",
   "name": "pinns_plotting_env"
  },
  "language_info": {
   "codemirror_mode": {
    "name": "ipython",
    "version": 3
   },
   "file_extension": ".py",
   "mimetype": "text/x-python",
   "name": "python",
   "nbconvert_exporter": "python",
   "pygments_lexer": "ipython3",
   "version": "3.10.10"
  }
 },
 "nbformat": 4,
 "nbformat_minor": 2
}
