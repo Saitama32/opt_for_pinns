{
  "nbformat": 4,
  "nbformat_minor": 0,
  "metadata": {
    "colab": {
      "provenance": []
    },
    "kernelspec": {
      "name": "python3",
      "display_name": "Python 3"
    },
    "language_info": {
      "name": "python"
    }
  },
  "cells": [
    {
      "cell_type": "markdown",
      "source": [
        "# Notebook for plotting conidition number vs. number of residual points"
      ],
      "metadata": {
        "id": "jzSfrglOnBNF"
      }
    },
    {
      "cell_type": "code",
      "execution_count": null,
      "metadata": {
        "id": "We8tnS39miHt"
      },
      "outputs": [],
      "source": [
        "import torch\n",
        "import numpy as np\n",
        "import matplotlib.pyplot as plt\n",
        "import matplotlib as mpl\n",
        "import os\n",
        "from tqdm import tqdm\n",
        "import sys\n",
        "sys.path.append('..')\n",
        "from src.pyhessian import pyhessian\n",
        "from src.models import PINN\n",
        "from src.train_utils import *\n",
        "from src.opts.adam_lbfgs import Adam_LBFGS"
      ]
    },
    {
      "cell_type": "code",
      "source": [
        "!sudo apt install cm-super dvipng texlive-latex-extra texlive-latex-recommended"
      ],
      "metadata": {
        "colab": {
          "base_uri": "https://localhost:8080/"
        },
        "id": "71HWbU_CnZio",
        "outputId": "d1a348d6-5495-411b-d4de-bfedf52ed2b4"
      },
      "execution_count": null,
      "outputs": [
        {
          "output_type": "stream",
          "name": "stdout",
          "text": [
            "Reading package lists... Done\n",
            "Building dependency tree... Done\n",
            "Reading state information... Done\n",
            "cm-super is already the newest version (0.3.4-17).\n",
            "dvipng is already the newest version (1.15-1.1).\n",
            "texlive-latex-extra is already the newest version (2021.20220204-1).\n",
            "texlive-latex-recommended is already the newest version (2021.20220204-1).\n",
            "0 upgraded, 0 newly installed, 0 to remove and 31 not upgraded.\n"
          ]
        }
      ]
    },
    {
      "cell_type": "markdown",
      "source": [
        "## Training the model with different number of residual points\n",
        "\n",
        "We use a small model for an easy convection problem ($\\beta = 1$)."
      ],
      "metadata": {
        "id": "7_gCLx0eBnDj"
      }
    },
    {
      "cell_type": "code",
      "source": [
        "min_exp = 8\n",
        "max_exp = 13\n",
        "num_res_list = [2 ** exp for exp in range(min_exp, max_exp+1)]\n",
        "eigval_list = []\n",
        "iter_used_list = []\n",
        "total_loss_list = []\n",
        "\n",
        "initial_seed = 345\n",
        "pde_name = \"convection\"\n",
        "pde_params = [\"beta\", \"1\"]\n",
        "switch_epochs = [11000]\n",
        "adam_lr = 0.0001\n",
        "lbfgs_history_size = 100\n",
        "num_layers = 2\n",
        "num_neurons = 32\n",
        "loss_name = \"mse\"\n",
        "num_x = 257\n",
        "num_t = 101\n",
        "num_epochs = 12500\n",
        "device = \"cuda:2\"\n",
        "\n",
        "for i in (progress_bar:=tqdm(range(len(num_res_list)), ncols=125)):\n",
        "\n",
        "    num_res = num_res_list[i]\n",
        "\n",
        "    set_random_seed(initial_seed)\n",
        "    model = PINN(in_dim=2, hidden_dim=num_neurons, out_dim=1, num_layer=num_layers).to(device)\n",
        "    model.apply(init_weights)\n",
        "\n",
        "    x_range, t_range, loss_func, pde_coefs = get_pde(pde_name, pde_params, loss_name)\n",
        "    x, t, data_params = get_data(x_range, t_range, num_x, num_t, random=True, num_res_samples=num_res, device=device)\n",
        "\n",
        "    # train the model\n",
        "    opt = Adam_LBFGS(model.parameters(), switch_epochs=switch_epochs, adam_params={\"lr\": adam_lr}, lbfgs_params={\"history_size\": lbfgs_history_size, \"line_search_fn\": \"strong_wolfe\"})\n",
        "\n",
        "    loss_hist = []\n",
        "    loss_res_hist = []\n",
        "    loss_bc_hist = []\n",
        "    loss_ic_hist = []\n",
        "\n",
        "    for j in range(num_epochs):\n",
        "        model.train()\n",
        "        def closure():\n",
        "            opt.zero_grad()\n",
        "            outputs = predict(x, t, model)\n",
        "            loss_res, loss_bc, loss_ic = loss_func(x, t, outputs)\n",
        "            loss = loss_res + loss_bc + loss_ic\n",
        "            loss.backward()\n",
        "\n",
        "            return loss\n",
        "\n",
        "        opt.step(closure)\n",
        "\n",
        "        model.eval()\n",
        "        loss_res, loss_bc, loss_ic = loss_func(x, t, predict(x, t, model))\n",
        "        loss = loss_res + loss_bc + loss_ic\n",
        "\n",
        "        loss_hist.append(loss.item())\n",
        "        loss_res_hist.append(loss_res.item())\n",
        "        loss_bc_hist.append(loss_bc.item())\n",
        "        loss_ic_hist.append(loss_ic.item())\n",
        "\n",
        "        progress_bar.set_postfix_str(\"{} out of {} / res {:.2e} / bc {:.2e} / ic {:.2e} / total {:.2e}\".format(j, num_epochs, loss_res_hist[-1], loss_bc_hist[-1], loss_ic_hist[-1], loss_hist[-1]))\n",
        "\n",
        "    total_loss_list.append(loss_hist)\n",
        "\n",
        "    # compute eigenvalues\n",
        "    hessian_comp = hessian(model, predict, loss_func, data=(x,t), device=device)\n",
        "    eigenvalues, _, iter_used = hessian_comp.eigenvalues(max_num_iter=500, top_n=129)\n",
        "    eigval_list.append(np.array(eigenvalues))\n",
        "    iter_used_list.append(np.array(iter_used))\n",
        "\n",
        "torch.save({\n",
        "            'num_res_list': num_res_list,\n",
        "            'eigval_list': eigval_list,\n",
        "            'iter_used_list': iter_used_list,\n",
        "            'total_loss_list': total_loss_list\n",
        "            }, \"eigenvalues_convection\")"
      ],
      "metadata": {
        "id": "5-8H5OuiB9DP"
      },
      "execution_count": null,
      "outputs": []
    },
    {
      "cell_type": "markdown",
      "source": [
        "## Making the plot"
      ],
      "metadata": {
        "id": "TmiyKi5WoHyV"
      }
    },
    {
      "cell_type": "code",
      "source": [
        "def get_title(pde_name, pde_params):\n",
        "  if pde_name == \"convection\":\n",
        "    return f'Convection, $\\\\beta = {pde_params[1]}$'\n",
        "  if pde_name == \"reaction\":\n",
        "    return f'Reaction, $\\\\rho = {pde_params[1]}$'\n",
        "  elif pde_name == \"wave\":\n",
        "    return f'Wave, $\\\\beta = {pde_params[1]}$'"
      ],
      "metadata": {
        "id": "20NhwV4YoJ1z"
      },
      "execution_count": null,
      "outputs": []
    },
    {
      "cell_type": "code",
      "source": [
        "# load saved results\n",
        "pdes = [('convection', ['beta', '1'])]\n",
        "saved_results = {'convection': torch.load('eigenvalues_convection', map_location=torch.device('cpu'))}\n",
        "\n",
        "# make sure texts are rendered in serif via LaTex\n",
        "plt.rc('text', usetex=True)\n",
        "plt.rc('font', family='serif')"
      ],
      "metadata": {
        "id": "KfQbYf49oQs3"
      },
      "execution_count": null,
      "outputs": []
    },
    {
      "cell_type": "code",
      "source": [
        "def plot_condition_number(pdes, saved_results, font_size, folder_path, filename):\n",
        "  mpl.rcParams.update({'font.size': font_size})\n",
        "\n",
        "  nrows = 1\n",
        "  ncols = len(pdes)\n",
        "\n",
        "  fig, axs = plt.subplots(nrows, ncols, figsize=(ncols * 5, nrows * 4))\n",
        "\n",
        "  for col, (pde_name, pde_params) in enumerate(pdes):\n",
        "    pde_result = saved_results[pde_name]\n",
        "\n",
        "    num_res_list = pde_result['num_res_list']\n",
        "    condition_number_list = [np.abs(eigenvalues[0]/eigenvalues[-1]) for eigenvalues in pde_result['eigval_list']]\n",
        "\n",
        "    if ncols == 1:\n",
        "      ax = axs\n",
        "    else:\n",
        "      ax = axs[col]\n",
        "    ax.semilogy(np.log2(num_res_list), condition_number_list)\n",
        "\n",
        "    ax.set_ylabel('$\\\\lambda_1 / \\\\lambda_{129}$')\n",
        "    ax.set_xlabel('$\\\\log_2 n_{\\\\mathrm{res}}$')\n",
        "    ax.set_title(get_title(pde_name, pde_params))\n",
        "\n",
        "  fig.tight_layout(rect=[0, 0.03, 1, 0.95])\n",
        "\n",
        "  if not os.path.exists(folder_path):\n",
        "    os.makedirs(folder_path)\n",
        "\n",
        "  filename = filename + '.pdf'\n",
        "  fig.savefig(os.path.join(folder_path, filename), bbox_inches='tight')\n",
        "  plt.show()"
      ],
      "metadata": {
        "id": "pmgVycbKqWmK"
      },
      "execution_count": null,
      "outputs": []
    },
    {
      "cell_type": "code",
      "source": [
        "plot_condition_number(pdes, saved_results, font_size=14, folder_path='condition_number_bound', filename='condition_number_bound')"
      ],
      "metadata": {
        "colab": {
          "base_uri": "https://localhost:8080/",
          "height": 362
        },
        "id": "9m5CVB5S225k",
        "outputId": "9e049f58-39f1-46ba-9a58-8ccf8f575b48"
      },
      "execution_count": null,
      "outputs": [
        {
          "output_type": "display_data",
          "data": {
            "text/plain": [
              "<Figure size 500x400 with 1 Axes>"
            ],
            "image/png": "[encoded data removed]"
          },
          "metadata": {}
        }
      ]
    }
  ]
}