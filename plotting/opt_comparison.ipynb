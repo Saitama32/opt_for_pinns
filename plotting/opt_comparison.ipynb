{
 "cells": [
  {
   "cell_type": "code",
   "execution_count": 1,
   "metadata": {},
   "outputs": [],
   "source": [
    "import wandb\n",
    "import numpy as np\n",
    "import matplotlib.pyplot as plt\n",
    "import os"
   ]
  },
  {
   "cell_type": "code",
   "execution_count": 2,
   "metadata": {},
   "outputs": [],
   "source": [
    "# Render plots in LaTeX\n",
    "# plt.rc('text', usetex = True)\n",
    "# plt.rc('font', family = 'serif')"
   ]
  },
  {
   "cell_type": "code",
   "execution_count": 3,
   "metadata": {},
   "outputs": [],
   "source": [
    "entity_name = 'sketchy-opts'\n",
    "extensions = {\n",
    "    'adam': 'adam_final',\n",
    "    'lbfgs': 'lbfgs_final',\n",
    "    'adam_lbfgs': 'adam_lbfgs_final',\n",
    "    'adam_lbfgs_10k': 'adam_lbfgs_final_10k',\n",
    "    'adam_lbfgs_31k': 'adam_lbfgs_final_31k'\n",
    "}\n",
    "opt_names = {\n",
    "    'adam': 'Adam',\n",
    "    'lbfgs': 'L-BFGS',\n",
    "    'adam_lbfgs': 'Adam + L-BFGS (1k)',\n",
    "    'adam_lbfgs_10k': 'Adam + L-BFGS (11k)',\n",
    "    'adam_lbfgs_31k': 'Adam + L-BFGS (31k)'\n",
    "}\n",
    "metrics = {\n",
    "    'train/l2re': 'Training L2RE',\n",
    "    'train/l1re': 'Training L1RE',\n",
    "    'test/l2re': 'Test L2RE',\n",
    "    'test/l1re': 'Test L1RE',\n",
    "    'loss': 'Loss'\n",
    "}"
   ]
  },
  {
   "cell_type": "code",
   "execution_count": 4,
   "metadata": {},
   "outputs": [],
   "source": [
    "pde_name = 'reaction_diffusion' # 'wave' # 'convection'\n",
    "pde_params = ['nu', '6', 'rho', '5'] # ['beta', '5'] # ['beta', '40'] \n",
    "metric = 'loss'\n",
    "opts = ['adam', 'lbfgs', 'adam_lbfgs', 'adam_lbfgs_10k', 'adam_lbfgs_31k']\n",
    "widths = [50, 100, 200, 400]"
   ]
  },
  {
   "cell_type": "code",
   "execution_count": 5,
   "metadata": {},
   "outputs": [],
   "source": [
    "def get_best_performance(pde_name, pde_params, metric, opt, widths):\n",
    "    proj_name = f'{pde_name}_{extensions[opt]}'\n",
    "\n",
    "    # Get the best results for the corresponding metric and pde_params, making sure to separate across widths\n",
    "    best_results = {}\n",
    "    for width in widths:\n",
    "        best_results[width] = np.inf\n",
    "\n",
    "    api = wandb.Api()\n",
    "    for run in api.runs(f'{entity_name}/{proj_name}'):\n",
    "        if run.state != 'finished':\n",
    "            continue\n",
    "        config = run.config\n",
    "        if config['pde_params'] != pde_params:\n",
    "            continue\n",
    "        try:\n",
    "            best_results[config['num_neurons']] = \\\n",
    "                np.minimum(best_results[config['num_neurons']], run.summary[metric]) \\\n",
    "                    if run.summary[metric] is not None else best_results[config['num_neurons']]\n",
    "        except:\n",
    "            print(f'Error in {run.name} in {proj_name}, run.summary[metric] = {run.summary[metric]}')\n",
    "\n",
    "    return best_results"
   ]
  },
  {
   "cell_type": "code",
   "execution_count": 6,
   "metadata": {},
   "outputs": [],
   "source": [
    "# print(get_best_performance(pde_name, pde_params, metric, 'adam', widths))\n",
    "# print(get_best_performance(pde_name, pde_params, metric, 'lbfgs', widths))\n",
    "# print(get_best_performance(pde_name, pde_params, metric, 'adam_lbfgs', widths))\n",
    "# print(get_best_performance(pde_name, pde_params, metric, 'adam_lbfgs_10k', widths))"
   ]
  },
  {
   "cell_type": "code",
   "execution_count": 7,
   "metadata": {},
   "outputs": [],
   "source": [
    "def get_best_performance_opts(pde_name, pde_params, metric, opts, widths):\n",
    "    opt_best_results = {}\n",
    "    for opt in opts:\n",
    "        opt_best_results[opt] = get_best_performance(pde_name, pde_params, metric, opt, widths)\n",
    "    return opt_best_results"
   ]
  },
  {
   "cell_type": "code",
   "execution_count": 8,
   "metadata": {},
   "outputs": [],
   "source": [
    "opt_best_results = get_best_performance_opts(pde_name, pde_params, metric, opts, widths)\n",
    "# for opt in opts:\n",
    "#     print(opt_best_results[opt])"
   ]
  },
  {
   "cell_type": "code",
   "execution_count": 9,
   "metadata": {},
   "outputs": [],
   "source": [
    "def get_title(pde_name, pde_params):\n",
    "    if pde_name == \"convection\":\n",
    "        return f'Convection, $\\\\beta = {pde_params[1]}$'\n",
    "    elif pde_name == \"reaction_diffusion\":\n",
    "        return f'Reaction-Diffusion, $\\\\nu = {pde_params[1]}, \\\\rho = {pde_params[3]}$'\n",
    "    elif pde_name == \"wave\":\n",
    "        return f'Wave, $\\\\beta = {pde_params[1]}$'"
   ]
  },
  {
   "cell_type": "code",
   "execution_count": 11,
   "metadata": {},
   "outputs": [
    {
     "data": {
      "image/png": "[encoded data removed]",
      "text/plain": [
       "<Figure size 640x480 with 1 Axes>"
      ]
     },
     "metadata": {},
     "output_type": "display_data"
    }
   ],
   "source": [
    "# Make a single bar plot of the best results, comparing across optimizers and widths\n",
    "width = 0.15\n",
    "fig, ax = plt.subplots()\n",
    "for i, opt in enumerate(opts):\n",
    "    ax.bar(np.arange(len(widths)) + i * width, [opt_best_results[opt][width] for width in widths], width, label=opt_names[opt])\n",
    "ax.set_yscale('log')\n",
    "ax.set_ylabel(metrics[metric])\n",
    "ax.set_xlabel('Network Width')\n",
    "ax.set_xticks(np.arange(len(widths)) + (len(opts) - 1) * width / 2)\n",
    "ax.set_xticklabels(widths)\n",
    "ax.legend()\n",
    "ax.set_title(get_title(pde_name, pde_params))\n",
    "plt.show()"
   ]
  }
 ],
 "metadata": {
  "kernelspec": {
   "display_name": "opt_for_pinns_env",
   "language": "python",
   "name": "opt_for_pinns_env"
  },
  "language_info": {
   "codemirror_mode": {
    "name": "ipython",
    "version": 3
   },
   "file_extension": ".py",
   "mimetype": "text/x-python",
   "name": "python",
   "nbconvert_exporter": "python",
   "pygments_lexer": "ipython3",
   "version": "3.10.12"
  }
 },
 "nbformat": 4,
 "nbformat_minor": 2
}
