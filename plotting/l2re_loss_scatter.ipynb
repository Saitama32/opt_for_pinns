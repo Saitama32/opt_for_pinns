{
 "cells": [
  {
   "cell_type": "code",
   "execution_count": null,
   "metadata": {},
   "outputs": [],
   "source": [
    "!pip uninstall numpy matplotlib -y\n",
    "!pip install numpy matplotlib"
   ]
  },
  {
   "cell_type": "code",
   "execution_count": null,
   "metadata": {},
   "outputs": [],
   "source": [
    "import wandb\n",
    "import numpy as np\n",
    "import matplotlib.pyplot as plt\n",
    "import matplotlib as mpl\n",
    "import os"
   ]
  },
  {
   "cell_type": "code",
   "execution_count": null,
   "metadata": {},
   "outputs": [],
   "source": [
    "# Render plots in LaTeX\n",
    "plt.rc('text', usetex = True)\n",
    "plt.rc('font', family = 'serif')"
   ]
  },
  {
   "cell_type": "code",
   "execution_count": null,
   "metadata": {},
   "outputs": [],
   "source": [
    "def get_data()"
   ]
  },
  {
   "cell_type": "code",
   "execution_count": null,
   "metadata": {},
   "outputs": [],
   "source": [
    "entity_name = 'sketchy-opts'\n",
    "extensions = {\n",
    "    'adam': 'adam_final',\n",
    "    'lbfgs': 'lbfgs_final',\n",
    "    'adam_lbfgs': 'adam_lbfgs_final',\n",
    "    'adam_lbfgs_11k': 'adam_lbfgs_final_11k',\n",
    "    'adam_lbfgs_31k': 'adam_lbfgs_final_31k'\n",
    "}\n",
    "opt_names = {\n",
    "    'adam': 'Adam',\n",
    "    'lbfgs': 'L-BFGS',\n",
    "    'adam_lbfgs': 'Adam + L-BFGS (1k)',\n",
    "    'adam_lbfgs_11k': 'Adam + L-BFGS (11k)',\n",
    "    'adam_lbfgs_31k': 'Adam + L-BFGS (31k)'\n",
    "}\n",
    "metric_names = {\n",
    "    'train/l2re': 'Training L2RE',\n",
    "    'train/l1re': 'Training L1RE',\n",
    "    'test/l2re': 'Test L2RE',\n",
    "    'test/l1re': 'Test L1RE',\n",
    "    'loss': 'Loss'\n",
    "}"
   ]
  },
  {
   "cell_type": "code",
   "execution_count": null,
   "metadata": {},
   "outputs": [],
   "source": [
    "pdes = [('convection', ['beta', '40']), ('reaction_diffusion', ['nu', '6', 'rho', '5']), ('wave', ['beta', '5'])]\n",
    "x_axis = 'loss'\n",
    "y_axis = 'test/l2re'"
   ]
  }
 ],
 "metadata": {
  "language_info": {
   "name": "python"
  }
 },
 "nbformat": 4,
 "nbformat_minor": 2
}
